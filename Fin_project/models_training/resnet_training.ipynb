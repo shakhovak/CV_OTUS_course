{
 "cells": [
  {
   "cell_type": "code",
   "execution_count": 1,
   "metadata": {},
   "outputs": [],
   "source": [
    "import numpy as np\n",
    "import pandas as pd\n",
    "import matplotlib.pyplot as plt\n",
    "import cv2 as cv2\n",
    "from tqdm.notebook import tqdm\n",
    "from torch.utils.data import Dataset, DataLoader\n",
    "from torchvision import transforms\n",
    "import pytorch_lightning as pl\n",
    "from models import ContrastiveLossModel"
   ]
  },
  {
   "cell_type": "code",
   "execution_count": 2,
   "metadata": {},
   "outputs": [],
   "source": [
    "BATCH_SIZE_TRIPLET = 64\n",
    "num_epochs_triplet = 15\n",
    "learning_rate_triplet = 0.001\n",
    "with_scheduler_triplet = True\n",
    "use_combos = True\n",
    "combos_mult = 1024"
   ]
  },
  {
   "cell_type": "code",
   "execution_count": 3,
   "metadata": {},
   "outputs": [
    {
     "data": {
      "text/html": [
       "<div>\n",
       "<style scoped>\n",
       "    .dataframe tbody tr th:only-of-type {\n",
       "        vertical-align: middle;\n",
       "    }\n",
       "\n",
       "    .dataframe tbody tr th {\n",
       "        vertical-align: top;\n",
       "    }\n",
       "\n",
       "    .dataframe thead th {\n",
       "        text-align: right;\n",
       "    }\n",
       "</style>\n",
       "<table border=\"1\" class=\"dataframe\">\n",
       "  <thead>\n",
       "    <tr style=\"text-align: right;\">\n",
       "      <th></th>\n",
       "      <th>title</th>\n",
       "      <th>price</th>\n",
       "      <th>cat_1</th>\n",
       "      <th>cat_2</th>\n",
       "      <th>cat_3</th>\n",
       "      <th>caracteristics</th>\n",
       "      <th>img_ref</th>\n",
       "      <th>target</th>\n",
       "      <th>dealer</th>\n",
       "    </tr>\n",
       "  </thead>\n",
       "  <tbody>\n",
       "    <tr>\n",
       "      <th>0</th>\n",
       "      <td>Беговая дорожка UNIXFIT MX-990X</td>\n",
       "      <td>120890</td>\n",
       "      <td>Беговые дорожки</td>\n",
       "      <td>UNIXFIT</td>\n",
       "      <td>UNIXFIT MX-990X</td>\n",
       "      <td>Тип электрическая  Уровень базовый Габариты (...</td>\n",
       "      <td>images/begovye_dorozhki/1_begdorozhki_1349.jpeg</td>\n",
       "      <td>begovye_dorozhki</td>\n",
       "      <td>begdorozhki</td>\n",
       "    </tr>\n",
       "    <tr>\n",
       "      <th>1</th>\n",
       "      <td>Беговая дорожка Proxima Ivetta HRC, Арт. PROT-219</td>\n",
       "      <td>139990</td>\n",
       "      <td>Беговые дорожки</td>\n",
       "      <td>Proxima</td>\n",
       "      <td>Proxima Ivetta HRC, Арт. PROT-219</td>\n",
       "      <td>Тип электрическая  Уровень базовый Габариты (...</td>\n",
       "      <td>images/begovye_dorozhki/2_begdorozhki_1463.jpeg</td>\n",
       "      <td>begovye_dorozhki</td>\n",
       "      <td>begdorozhki</td>\n",
       "    </tr>\n",
       "    <tr>\n",
       "      <th>2</th>\n",
       "      <td>Беговая дорожка UNIXFIT MX-990 AC (10,1\" TFT)</td>\n",
       "      <td>159890</td>\n",
       "      <td>Беговые дорожки</td>\n",
       "      <td>UNIXFIT</td>\n",
       "      <td>UNIXFIT MX-990 AC (10,1\" TFT)</td>\n",
       "      <td>Тип электрическая  Уровень полупрофессиональны...</td>\n",
       "      <td>images/begovye_dorozhki/3_begdorozhki_1638.jpeg</td>\n",
       "      <td>begovye_dorozhki</td>\n",
       "      <td>begdorozhki</td>\n",
       "    </tr>\n",
       "  </tbody>\n",
       "</table>\n",
       "</div>"
      ],
      "text/plain": [
       "                                               title   price            cat_1  \\\n",
       "0                    Беговая дорожка UNIXFIT MX-990X  120890  Беговые дорожки   \n",
       "1  Беговая дорожка Proxima Ivetta HRC, Арт. PROT-219  139990  Беговые дорожки   \n",
       "2      Беговая дорожка UNIXFIT MX-990 AC (10,1\" TFT)  159890  Беговые дорожки   \n",
       "\n",
       "     cat_2                              cat_3  \\\n",
       "0  UNIXFIT                    UNIXFIT MX-990X   \n",
       "1  Proxima  Proxima Ivetta HRC, Арт. PROT-219   \n",
       "2  UNIXFIT      UNIXFIT MX-990 AC (10,1\" TFT)   \n",
       "\n",
       "                                      caracteristics  \\\n",
       "0  Тип электрическая  Уровень базовый Габариты (...   \n",
       "1  Тип электрическая  Уровень базовый Габариты (...   \n",
       "2  Тип электрическая  Уровень полупрофессиональны...   \n",
       "\n",
       "                                           img_ref            target  \\\n",
       "0  images/begovye_dorozhki/1_begdorozhki_1349.jpeg  begovye_dorozhki   \n",
       "1  images/begovye_dorozhki/2_begdorozhki_1463.jpeg  begovye_dorozhki   \n",
       "2  images/begovye_dorozhki/3_begdorozhki_1638.jpeg  begovye_dorozhki   \n",
       "\n",
       "        dealer  \n",
       "0  begdorozhki  \n",
       "1  begdorozhki  \n",
       "2  begdorozhki  "
      ]
     },
     "execution_count": 3,
     "metadata": {},
     "output_type": "execute_result"
    }
   ],
   "source": [
    "comparable_data = pd.read_csv(\"comparable_data.csv\")\n",
    "comparable_data.head(3)"
   ]
  },
  {
   "cell_type": "code",
   "execution_count": 4,
   "metadata": {},
   "outputs": [],
   "source": [
    "def prepare_data(path_to_df):\n",
    "    df = pd.read_csv(path_to_df)\n",
    "    updated_df = pd.DataFrame()\n",
    "    for _, row in tqdm(df.iterrows(), total=df.shape[0]):\n",
    "        try:\n",
    "            img = cv2.imread(row[\"img_ref\"])\n",
    "            img.shape\n",
    "        except:\n",
    "            img = plt.imread(row[\"img_ref\"])\n",
    "        if len(img.shape) < 3:\n",
    "            img_fin = cv2.cvtColor(img, cv2.COLOR_GRAY2RGB)\n",
    "        elif img.shape[2] == 4:\n",
    "            img_fin = cv2.cvtColor(img, cv2.COLOR_BGRA2RGB)\n",
    "        else:\n",
    "            img_fin = img\n",
    "        label = row['target']\n",
    "        new_row = {'label_string': label,\n",
    "            'image': img_fin}\n",
    "        updated_df = pd.concat([updated_df, pd.DataFrame([new_row])], ignore_index=True)\n",
    "    data_classes = list(set(updated_df[\"label_string\"].tolist()))\n",
    "    updated_df[\"label\"] = updated_df[\"label_string\"].apply(data_classes.index)\n",
    "    updated_df = updated_df.drop([\"label_string\"], axis=1)\n",
    "    updated_df = updated_df[[\"label\", \"image\"]]\n",
    "\n",
    "    return updated_df"
   ]
  },
  {
   "cell_type": "code",
   "execution_count": 5,
   "metadata": {},
   "outputs": [
    {
     "data": {
      "application/vnd.jupyter.widget-view+json": {
       "model_id": "758424e16c0642efabc301663de8dedb",
       "version_major": 2,
       "version_minor": 0
      },
      "text/plain": [
       "  0%|          | 0/13718 [00:00<?, ?it/s]"
      ]
     },
     "metadata": {},
     "output_type": "display_data"
    }
   ],
   "source": [
    "df = prepare_data(\"comparable_data.csv\")"
   ]
  },
  {
   "cell_type": "code",
   "execution_count": 6,
   "metadata": {},
   "outputs": [],
   "source": [
    "default_transform = transforms.Compose(\n",
    "    [\n",
    "        transforms.ToPILImage(),\n",
    "        transforms.Resize((224, 224)),\n",
    "        transforms.ToTensor(),\n",
    "        transforms.Normalize([0.485, 0.456, 0.406], [0.229, 0.224, 0.225]),\n",
    "    ]\n",
    ")"
   ]
  },
  {
   "cell_type": "code",
   "execution_count": 7,
   "metadata": {},
   "outputs": [],
   "source": [
    "class ContrastiveLossDataset(Dataset):\n",
    "    def __init__(\n",
    "        self, data_df: pd.DataFrame, transform=None, use_all_combos=False, combos_mult=2\n",
    "    ):\n",
    "        super(ContrastiveLossDataset, self).__init__()\n",
    "        dataset = []\n",
    "        labels_positive = {}\n",
    "        labels_negative = {}\n",
    "\n",
    "        # for each label create a set of same label images.\n",
    "        for i in list(data_df.label.unique()):\n",
    "            labels_positive[i] = data_df[data_df.label == i][\"image\"].to_numpy()\n",
    "        # for each label create a set of image of different label.\n",
    "        for i in list(data_df.label.unique()):\n",
    "            labels_negative[i] = data_df[data_df.label != i][\"image\"].to_numpy()\n",
    "\n",
    "        for i, row in tqdm(data_df.iterrows(), total=len(data_df)):\n",
    "            # label and image of the index for each row in df\n",
    "            label = row[\"label\"]\n",
    "\n",
    "            if use_all_combos:\n",
    "                # probability of same label image == 0.5\n",
    "                if np.random.randint(0, 2) == 0:\n",
    "                    for i in range(int(len(labels_positive[label]) / combos_mult)):\n",
    "                        second = labels_positive[label][i]\n",
    "                        dis = 0.0\n",
    "                        first = row[\"image\"]\n",
    "                        if transform is not None:\n",
    "                            first = transform(first.astype(np.float32))\n",
    "                            second = transform(second.astype(np.float32))\n",
    "                        dataset.append((first, second, dis, label))\n",
    "                else:\n",
    "                    for i in range(int(len(labels_positive[label]) / combos_mult)):\n",
    "                        second = labels_negative[label][\n",
    "                            np.random.randint(0, len(labels_negative[label]))\n",
    "                        ]\n",
    "                        first = row[\"image\"]\n",
    "                        dis = 1.0\n",
    "                        if transform is not None:\n",
    "                            first = transform(first.astype(np.float32))\n",
    "                            second = transform(second.astype(np.float32))\n",
    "                        dataset.append((first, second, dis, label))\n",
    "            else:\n",
    "                if np.random.randint(0, 2) == 0:\n",
    "                    second = labels_positive[label][\n",
    "                        np.random.randint(0, len(labels_positive[label]))\n",
    "                    ]\n",
    "                    dis = 0.0\n",
    "                    first = row[\"image\"]\n",
    "                    if transform is not None:\n",
    "                        first = transform(first.astype(np.float32))\n",
    "                        second = transform(second.astype(np.float32))\n",
    "                    dataset.append((first, second, dis, label))\n",
    "                else:\n",
    "                    second = labels_negative[label][\n",
    "                        np.random.randint(0, len(labels_negative[label]))\n",
    "                    ]\n",
    "                    first = row[\"image\"]\n",
    "                    dis = 1.0\n",
    "                    if transform is not None:\n",
    "                        first = transform(first.astype(np.float32))\n",
    "                        second = transform(second.astype(np.float32))\n",
    "                    dataset.append((first, second, dis, label))\n",
    "        self.dataset = dataset\n",
    "        self.transform = transform\n",
    "\n",
    "    def __len__(self):\n",
    "        return len(self.dataset)\n",
    "\n",
    "    def __getitem__(self, i):\n",
    "        return self.dataset[i]"
   ]
  },
  {
   "cell_type": "code",
   "execution_count": 8,
   "metadata": {},
   "outputs": [
    {
     "data": {
      "application/vnd.jupyter.widget-view+json": {
       "model_id": "de230b7119f84c5ba2f9a93f83810245",
       "version_major": 2,
       "version_minor": 0
      },
      "text/plain": [
       "  0%|          | 0/13718 [00:00<?, ?it/s]"
      ]
     },
     "metadata": {},
     "output_type": "display_data"
    },
    {
     "name": "stdout",
     "output_type": "stream",
     "text": [
      "Train dataset shape: 32399\n"
     ]
    }
   ],
   "source": [
    "train_dataset_with_combos = ContrastiveLossDataset(\n",
    "    df, default_transform, use_all_combos=use_combos, combos_mult=combos_mult\n",
    ")\n",
    "\n",
    "print(f\"Train dataset shape: {len(train_dataset_with_combos)}\")"
   ]
  },
  {
   "cell_type": "code",
   "execution_count": 9,
   "metadata": {},
   "outputs": [],
   "source": [
    "# shuffle true for train data to randomly create batches\n",
    "trainLoader_with_combos = DataLoader(\n",
    "    train_dataset_with_combos,\n",
    "    batch_size=BATCH_SIZE_TRIPLET,\n",
    "    shuffle=True,\n",
    "    drop_last=True,\n",
    ")"
   ]
  },
  {
   "cell_type": "code",
   "execution_count": 10,
   "metadata": {},
   "outputs": [
    {
     "name": "stderr",
     "output_type": "stream",
     "text": [
      "GPU available: True (cuda), used: True\n",
      "TPU available: False, using: 0 TPU cores\n",
      "HPU available: False, using: 0 HPUs\n",
      "c:\\Users\\Kate\\Desktop\\cv_project\\.venv\\Lib\\site-packages\\pytorch_lightning\\trainer\\connectors\\logger_connector\\logger_connector.py:75: Starting from v1.9.0, `tensorboardX` has been removed as a dependency of the `pytorch_lightning` package, due to potential conflicts with other packages in the ML ecosystem. For this reason, `logger=True` will use `CSVLogger` as the default logger, unless the `tensorboard` or `tensorboardX` packages are found. Please `pip install lightning[extra]` or one of them to enable TensorBoard support by default\n",
      "c:\\Users\\Kate\\Desktop\\cv_project\\.venv\\Lib\\site-packages\\pytorch_lightning\\trainer\\configuration_validator.py:70: You defined a `validation_step` but have no `val_dataloader`. Skipping val loop.\n",
      "You are using a CUDA device ('NVIDIA GeForce RTX 3060 Ti') that has Tensor Cores. To properly utilize them, you should set `torch.set_float32_matmul_precision('medium' | 'high')` which will trade-off precision for performance. For more details, read https://pytorch.org/docs/stable/generated/torch.set_float32_matmul_precision.html#torch.set_float32_matmul_precision\n",
      "LOCAL_RANK: 0 - CUDA_VISIBLE_DEVICES: [0]\n",
      "\n",
      "  | Name    | Type            | Params | Mode \n",
      "----------------------------------------------------\n",
      "0 | model   | ResNet          | 11.2 M | train\n",
      "1 | loss_fn | ContrastiveLoss | 0      | train\n",
      "----------------------------------------------------\n",
      "11.2 M    Trainable params\n",
      "0         Non-trainable params\n",
      "11.2 M    Total params\n",
      "44.706    Total estimated model params size (MB)\n",
      "69        Modules in train mode\n",
      "0         Modules in eval mode\n",
      "c:\\Users\\Kate\\Desktop\\cv_project\\.venv\\Lib\\site-packages\\pytorch_lightning\\trainer\\connectors\\data_connector.py:424: The 'train_dataloader' does not have many workers which may be a bottleneck. Consider increasing the value of the `num_workers` argument` to `num_workers=23` in the `DataLoader` to improve performance.\n"
     ]
    },
    {
     "data": {
      "application/vnd.jupyter.widget-view+json": {
       "model_id": "98c37d8989634fc394c3e8f6a4ada9ae",
       "version_major": 2,
       "version_minor": 0
      },
      "text/plain": [
       "Training: |          | 0/? [00:00<?, ?it/s]"
      ]
     },
     "metadata": {},
     "output_type": "display_data"
    },
    {
     "name": "stderr",
     "output_type": "stream",
     "text": [
      "`Trainer.fit` stopped: `max_epochs=15` reached.\n"
     ]
    }
   ],
   "source": [
    "trainer = pl.Trainer(max_epochs=num_epochs_triplet)\n",
    "model = ContrastiveLossModel(num_epochs_triplet, learning_rate_triplet)\n",
    "trainer.fit(model, train_dataloaders=trainLoader_with_combos)"
   ]
  },
  {
   "cell_type": "code",
   "execution_count": 11,
   "metadata": {},
   "outputs": [],
   "source": [
    "trainer.save_checkpoint(\"image_emb_model_1024_combos_v1.ckpt\")"
   ]
  }
 ],
 "metadata": {
  "kernelspec": {
   "display_name": ".venv",
   "language": "python",
   "name": "python3"
  },
  "language_info": {
   "codemirror_mode": {
    "name": "ipython",
    "version": 3
   },
   "file_extension": ".py",
   "mimetype": "text/x-python",
   "name": "python",
   "nbconvert_exporter": "python",
   "pygments_lexer": "ipython3",
   "version": "3.11.8"
  }
 },
 "nbformat": 4,
 "nbformat_minor": 2
}
