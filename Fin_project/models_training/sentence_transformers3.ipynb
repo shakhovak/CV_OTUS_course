{
 "cells": [
  {
   "cell_type": "code",
   "execution_count": 1,
   "metadata": {
    "execution": {
     "iopub.execute_input": "2024-08-30T19:27:36.736048Z",
     "iopub.status.busy": "2024-08-30T19:27:36.735386Z",
     "iopub.status.idle": "2024-08-30T19:27:41.769476Z",
     "shell.execute_reply": "2024-08-30T19:27:41.768676Z",
     "shell.execute_reply.started": "2024-08-30T19:27:36.736021Z"
    }
   },
   "outputs": [
    {
     "name": "stderr",
     "output_type": "stream",
     "text": [
      "c:\\Users\\Kate\\Desktop\\cv_project\\.venv\\Lib\\site-packages\\sentence_transformers\\cross_encoder\\CrossEncoder.py:13: TqdmExperimentalWarning: Using `tqdm.autonotebook.tqdm` in notebook mode. Use `tqdm.tqdm` instead to force console mode (e.g. in jupyter console)\n",
      "  from tqdm.autonotebook import tqdm, trange\n"
     ]
    }
   ],
   "source": [
    "import pandas as pd\n",
    "import json\n",
    "import numpy as np\n",
    "import pandas as pd\n",
    "from sklearn.model_selection import train_test_split\n",
    "from sentence_transformers import SentenceTransformer, losses\n",
    "import numpy as np\n",
    "import cv2 as cv2\n",
    "from tqdm.notebook import tqdm\n",
    "from torch.utils.data import Dataset\n",
    "from sentence_transformers.trainer import SentenceTransformerTrainer\n",
    "from sentence_transformers.training_args import SentenceTransformerTrainingArguments\n",
    "from sentence_transformers.evaluation import BinaryClassificationEvaluator\n",
    "from huggingface_hub import HfFolder\n",
    "import datasets"
   ]
  },
  {
   "cell_type": "code",
   "execution_count": 2,
   "metadata": {},
   "outputs": [
    {
     "data": {
      "text/html": [
       "<div>\n",
       "<style scoped>\n",
       "    .dataframe tbody tr th:only-of-type {\n",
       "        vertical-align: middle;\n",
       "    }\n",
       "\n",
       "    .dataframe tbody tr th {\n",
       "        vertical-align: top;\n",
       "    }\n",
       "\n",
       "    .dataframe thead th {\n",
       "        text-align: right;\n",
       "    }\n",
       "</style>\n",
       "<table border=\"1\" class=\"dataframe\">\n",
       "  <thead>\n",
       "    <tr style=\"text-align: right;\">\n",
       "      <th></th>\n",
       "      <th>title</th>\n",
       "      <th>price</th>\n",
       "      <th>cat_1</th>\n",
       "      <th>cat_2</th>\n",
       "      <th>cat_3</th>\n",
       "      <th>caracteristics</th>\n",
       "      <th>img_ref</th>\n",
       "      <th>target</th>\n",
       "      <th>dealer</th>\n",
       "    </tr>\n",
       "  </thead>\n",
       "  <tbody>\n",
       "    <tr>\n",
       "      <th>0</th>\n",
       "      <td>Беговая дорожка UNIXFIT MX-990X</td>\n",
       "      <td>120890</td>\n",
       "      <td>Беговые дорожки</td>\n",
       "      <td>UNIXFIT</td>\n",
       "      <td>UNIXFIT MX-990X</td>\n",
       "      <td>Тип электрическая  Уровень базовый Габариты (...</td>\n",
       "      <td>images/begovye_dorozhki/1_begdorozhki_1349.jpeg</td>\n",
       "      <td>begovye_dorozhki</td>\n",
       "      <td>begdorozhki</td>\n",
       "    </tr>\n",
       "    <tr>\n",
       "      <th>1</th>\n",
       "      <td>Беговая дорожка Proxima Ivetta HRC, Арт. PROT-219</td>\n",
       "      <td>139990</td>\n",
       "      <td>Беговые дорожки</td>\n",
       "      <td>Proxima</td>\n",
       "      <td>Proxima Ivetta HRC, Арт. PROT-219</td>\n",
       "      <td>Тип электрическая  Уровень базовый Габариты (...</td>\n",
       "      <td>images/begovye_dorozhki/2_begdorozhki_1463.jpeg</td>\n",
       "      <td>begovye_dorozhki</td>\n",
       "      <td>begdorozhki</td>\n",
       "    </tr>\n",
       "    <tr>\n",
       "      <th>2</th>\n",
       "      <td>Беговая дорожка UNIXFIT MX-990 AC (10,1\" TFT)</td>\n",
       "      <td>159890</td>\n",
       "      <td>Беговые дорожки</td>\n",
       "      <td>UNIXFIT</td>\n",
       "      <td>UNIXFIT MX-990 AC (10,1\" TFT)</td>\n",
       "      <td>Тип электрическая  Уровень полупрофессиональны...</td>\n",
       "      <td>images/begovye_dorozhki/3_begdorozhki_1638.jpeg</td>\n",
       "      <td>begovye_dorozhki</td>\n",
       "      <td>begdorozhki</td>\n",
       "    </tr>\n",
       "  </tbody>\n",
       "</table>\n",
       "</div>"
      ],
      "text/plain": [
       "                                               title   price            cat_1  \\\n",
       "0                    Беговая дорожка UNIXFIT MX-990X  120890  Беговые дорожки   \n",
       "1  Беговая дорожка Proxima Ivetta HRC, Арт. PROT-219  139990  Беговые дорожки   \n",
       "2      Беговая дорожка UNIXFIT MX-990 AC (10,1\" TFT)  159890  Беговые дорожки   \n",
       "\n",
       "     cat_2                              cat_3  \\\n",
       "0  UNIXFIT                    UNIXFIT MX-990X   \n",
       "1  Proxima  Proxima Ivetta HRC, Арт. PROT-219   \n",
       "2  UNIXFIT      UNIXFIT MX-990 AC (10,1\" TFT)   \n",
       "\n",
       "                                      caracteristics  \\\n",
       "0  Тип электрическая  Уровень базовый Габариты (...   \n",
       "1  Тип электрическая  Уровень базовый Габариты (...   \n",
       "2  Тип электрическая  Уровень полупрофессиональны...   \n",
       "\n",
       "                                           img_ref            target  \\\n",
       "0  images/begovye_dorozhki/1_begdorozhki_1349.jpeg  begovye_dorozhki   \n",
       "1  images/begovye_dorozhki/2_begdorozhki_1463.jpeg  begovye_dorozhki   \n",
       "2  images/begovye_dorozhki/3_begdorozhki_1638.jpeg  begovye_dorozhki   \n",
       "\n",
       "        dealer  \n",
       "0  begdorozhki  \n",
       "1  begdorozhki  \n",
       "2  begdorozhki  "
      ]
     },
     "execution_count": 2,
     "metadata": {},
     "output_type": "execute_result"
    }
   ],
   "source": [
    "comparable_data = pd.read_csv(\"comparable_data.csv\")\n",
    "comparable_data.head(3)"
   ]
  },
  {
   "cell_type": "code",
   "execution_count": 3,
   "metadata": {},
   "outputs": [],
   "source": [
    "def prepare_data(path_to_df, info_used = 'title_only'):\n",
    "    df = pd.read_csv(path_to_df)\n",
    "    updated_df = pd.DataFrame()\n",
    "    for _, row in tqdm(df.iterrows(), total=df.shape[0]):\n",
    "        if info_used == 'title_only':\n",
    "            text = row[\"title\"]\n",
    "        elif info_used == 'title_cat':\n",
    "            text = (\n",
    "                str(row[\"title\"])\n",
    "                + \" \"\n",
    "                + str(row[\"cat_1\"])\n",
    "                + \" \"\n",
    "                + str(row[\"cat_2\"])\n",
    "                + \" \"\n",
    "                + str(row[\"cat_3\"])\n",
    "            )\n",
    "        else:\n",
    "            text = (\n",
    "                str(row[\"title\"])\n",
    "                + \" \"\n",
    "                + str(row[\"cat_1\"])\n",
    "                + \" \"\n",
    "                + str(row[\"cat_2\"])\n",
    "                + \" \"\n",
    "                + str(row[\"cat_3\"])\n",
    "                + \" \"\n",
    "                + str(row[\"caracteristics\"])\n",
    "            )\n",
    "\n",
    "        label = row[\"target\"]\n",
    "        new_row = {\"label_string\": label, \"text\": text}\n",
    "        updated_df = pd.concat([updated_df, pd.DataFrame([new_row])], ignore_index=True)\n",
    "    data_classes = list(set(updated_df[\"label_string\"].tolist()))\n",
    "    updated_df[\"label\"] = updated_df[\"label_string\"].apply(data_classes.index)\n",
    "    updated_df = updated_df.drop([\"label_string\"], axis=1)\n",
    "    updated_df = updated_df[[\"label\", \"text\"]]\n",
    "\n",
    "    return updated_df"
   ]
  },
  {
   "cell_type": "code",
   "execution_count": 4,
   "metadata": {},
   "outputs": [
    {
     "data": {
      "application/vnd.jupyter.widget-view+json": {
       "model_id": "a068da241bb2419996cd8522e32d4d28",
       "version_major": 2,
       "version_minor": 0
      },
      "text/plain": [
       "  0%|          | 0/13718 [00:00<?, ?it/s]"
      ]
     },
     "metadata": {},
     "output_type": "display_data"
    }
   ],
   "source": [
    "df = prepare_data(\"comparable_data.csv\", info_used=\"title_cat\")"
   ]
  },
  {
   "cell_type": "code",
   "execution_count": 5,
   "metadata": {},
   "outputs": [
    {
     "data": {
      "text/html": [
       "<div>\n",
       "<style scoped>\n",
       "    .dataframe tbody tr th:only-of-type {\n",
       "        vertical-align: middle;\n",
       "    }\n",
       "\n",
       "    .dataframe tbody tr th {\n",
       "        vertical-align: top;\n",
       "    }\n",
       "\n",
       "    .dataframe thead th {\n",
       "        text-align: right;\n",
       "    }\n",
       "</style>\n",
       "<table border=\"1\" class=\"dataframe\">\n",
       "  <thead>\n",
       "    <tr style=\"text-align: right;\">\n",
       "      <th></th>\n",
       "      <th>label</th>\n",
       "      <th>text</th>\n",
       "    </tr>\n",
       "  </thead>\n",
       "  <tbody>\n",
       "    <tr>\n",
       "      <th>0</th>\n",
       "      <td>0</td>\n",
       "      <td>Беговая дорожка UNIXFIT MX-990X Беговые дорожк...</td>\n",
       "    </tr>\n",
       "    <tr>\n",
       "      <th>1</th>\n",
       "      <td>0</td>\n",
       "      <td>Беговая дорожка Proxima Ivetta HRC, Арт. PROT-...</td>\n",
       "    </tr>\n",
       "    <tr>\n",
       "      <th>2</th>\n",
       "      <td>0</td>\n",
       "      <td>Беговая дорожка UNIXFIT MX-990 AC (10,1\" TFT) ...</td>\n",
       "    </tr>\n",
       "    <tr>\n",
       "      <th>3</th>\n",
       "      <td>0</td>\n",
       "      <td>Беговая дорожка Titanium Masters Physiotech TL...</td>\n",
       "    </tr>\n",
       "    <tr>\n",
       "      <th>4</th>\n",
       "      <td>0</td>\n",
       "      <td>Беговая дорожка Laufstein Commercial Беговые д...</td>\n",
       "    </tr>\n",
       "  </tbody>\n",
       "</table>\n",
       "</div>"
      ],
      "text/plain": [
       "   label                                               text\n",
       "0      0  Беговая дорожка UNIXFIT MX-990X Беговые дорожк...\n",
       "1      0  Беговая дорожка Proxima Ivetta HRC, Арт. PROT-...\n",
       "2      0  Беговая дорожка UNIXFIT MX-990 AC (10,1\" TFT) ...\n",
       "3      0  Беговая дорожка Titanium Masters Physiotech TL...\n",
       "4      0  Беговая дорожка Laufstein Commercial Беговые д..."
      ]
     },
     "execution_count": 5,
     "metadata": {},
     "output_type": "execute_result"
    }
   ],
   "source": [
    "df.head(5)"
   ]
  },
  {
   "cell_type": "code",
   "execution_count": 6,
   "metadata": {},
   "outputs": [],
   "source": [
    "def create_cos_sim_data(data_df, use_all_combos=False, combos_mult=1024):\n",
    "    labels_positive = {}\n",
    "    labels_negative = {}\n",
    "\n",
    "    # for each label create a set of same label images.\n",
    "    for i in list(data_df.label.unique()):\n",
    "        labels_positive[i] = data_df[data_df.label == i][\"text\"].to_numpy()\n",
    "    # for each label create a set of image of different label.\n",
    "    for i in list(data_df.label.unique()):\n",
    "        labels_negative[i] = data_df[data_df.label != i][\"text\"].to_numpy()\n",
    "    cosine_loss_dataset = pd.DataFrame()\n",
    "    for i, row in tqdm(data_df.iterrows(), total=len(data_df)):\n",
    "        # label and image of the index for each row in df\n",
    "        label = row[\"label\"]\n",
    "\n",
    "        if use_all_combos:\n",
    "            # probability of same label image == 0.5\n",
    "            if np.random.randint(0, 2) == 0:\n",
    "                for i in range(int(len(labels_positive[label]) / combos_mult)):\n",
    "                    second = labels_positive[label][i]\n",
    "                    dis = 1.0\n",
    "                    first = row[\"text\"]\n",
    "                    new_line = {'sentence1':first,\n",
    "                                'sentence2': second,\n",
    "                                'score': dis}\n",
    "                    cosine_loss_dataset = pd.concat([cosine_loss_dataset, pd.DataFrame([new_line])])\n",
    "            else:\n",
    "                for i in range(int(len(labels_positive[label]) / combos_mult)):\n",
    "                    second = labels_negative[label][\n",
    "                        np.random.randint(0, len(labels_negative[label]))\n",
    "                    ]\n",
    "                    first = row[\"text\"]\n",
    "                    dis = 0.0\n",
    "                    new_line = {\"sentence1\": first, \"sentence2\": second, \"score\": dis}\n",
    "                    cosine_loss_dataset = pd.concat(\n",
    "                        [cosine_loss_dataset, pd.DataFrame([new_line])]\n",
    "                    )\n",
    "        else:\n",
    "            if np.random.randint(0, 2) == 0:\n",
    "                second = labels_positive[label][\n",
    "                    np.random.randint(0, len(labels_positive[label]))\n",
    "                ]\n",
    "                dis = 1.0\n",
    "                first = row[\"text\"]\n",
    "                new_line = {'sentence1':first,\n",
    "                            'sentence2': second,\n",
    "                            'score': dis}\n",
    "                cosine_loss_dataset = pd.concat([cosine_loss_dataset, pd.DataFrame([new_line])])\n",
    "            else:\n",
    "                second = labels_negative[label][\n",
    "                    np.random.randint(0, len(labels_negative[label]))\n",
    "                ]\n",
    "                first = row[\"text\"]\n",
    "                dis = 0.0\n",
    "                new_line = {'sentence1':first,\n",
    "                            'sentence2': second,\n",
    "                            'score': dis}\n",
    "                cosine_loss_dataset = pd.concat([cosine_loss_dataset, pd.DataFrame([new_line])])\n",
    "    return cosine_loss_dataset"
   ]
  },
  {
   "cell_type": "code",
   "execution_count": 7,
   "metadata": {},
   "outputs": [
    {
     "data": {
      "application/vnd.jupyter.widget-view+json": {
       "model_id": "543ff38e64b44a0ab90a910ccbef76c2",
       "version_major": 2,
       "version_minor": 0
      },
      "text/plain": [
       "  0%|          | 0/13718 [00:00<?, ?it/s]"
      ]
     },
     "metadata": {},
     "output_type": "display_data"
    }
   ],
   "source": [
    "cosine_loss_dataset = create_cos_sim_data(df)"
   ]
  },
  {
   "cell_type": "code",
   "execution_count": 8,
   "metadata": {
    "execution": {
     "iopub.execute_input": "2024-08-30T19:29:43.578700Z",
     "iopub.status.busy": "2024-08-30T19:29:43.578400Z",
     "iopub.status.idle": "2024-08-30T19:29:51.314092Z",
     "shell.execute_reply": "2024-08-30T19:29:51.313301Z",
     "shell.execute_reply.started": "2024-08-30T19:29:43.578676Z"
    }
   },
   "outputs": [],
   "source": [
    "train, test = train_test_split(cosine_loss_dataset, test_size=0.002, random_state=2012)\n",
    "train_dataset = datasets.Dataset.from_pandas(train, preserve_index=False)\n",
    "\n",
    "test_dataset = datasets.Dataset.from_pandas(test, preserve_index=False)"
   ]
  },
  {
   "cell_type": "code",
   "execution_count": 9,
   "metadata": {
    "execution": {
     "iopub.execute_input": "2024-08-30T19:29:51.315274Z",
     "iopub.status.busy": "2024-08-30T19:29:51.314994Z",
     "iopub.status.idle": "2024-08-30T19:29:51.331062Z",
     "shell.execute_reply": "2024-08-30T19:29:51.329815Z",
     "shell.execute_reply.started": "2024-08-30T19:29:51.315248Z"
    }
   },
   "outputs": [
    {
     "data": {
      "text/plain": [
       "Dataset({\n",
       "    features: ['sentence1', 'sentence2', 'score'],\n",
       "    num_rows: 13690\n",
       "})"
      ]
     },
     "execution_count": 9,
     "metadata": {},
     "output_type": "execute_result"
    }
   ],
   "source": [
    "train_dataset"
   ]
  },
  {
   "cell_type": "code",
   "execution_count": 10,
   "metadata": {
    "execution": {
     "iopub.execute_input": "2024-08-30T19:29:51.332017Z",
     "iopub.status.busy": "2024-08-30T19:29:51.331728Z",
     "iopub.status.idle": "2024-08-30T19:29:51.349984Z",
     "shell.execute_reply": "2024-08-30T19:29:51.349325Z",
     "shell.execute_reply.started": "2024-08-30T19:29:51.331993Z"
    },
    "tags": []
   },
   "outputs": [],
   "source": [
    "model_name = \"cointegrated/rubert-tiny2\"\n",
    "max_seq_length = 512\n",
    "num_epochs = 10\n",
    "train_batch_size = 32"
   ]
  },
  {
   "cell_type": "markdown",
   "metadata": {},
   "source": [
    "- **Contrastive loss.** Expects as input two texts and a label of either 0 or 1. If the label == 1, then the distance between the two embeddings is reduced. If the label == 0, then the distance between the embeddings is increased.\n",
    "- **CoSENT (Cosine Sentence) loss.** It expects that each of the InputExamples consists of a pair of texts and a float valued label, representing the expected similarity score between the pair.\n",
    "- **CosineSimilarityLoss** expects that the InputExamples consists of two texts and a float label. It computes the vectors u = model(sentence_A) and v = model(sentence_B) and measures the cosine-similarity between the two. By default, it minimizes the following loss: ||input_label - cos_score_transformation(cosine_sim(u,v))||_2."
   ]
  },
  {
   "cell_type": "code",
   "execution_count": 11,
   "metadata": {
    "execution": {
     "iopub.execute_input": "2024-08-30T19:29:51.350946Z",
     "iopub.status.busy": "2024-08-30T19:29:51.350654Z",
     "iopub.status.idle": "2024-08-30T19:33:06.542375Z",
     "shell.execute_reply": "2024-08-30T19:33:06.541544Z",
     "shell.execute_reply.started": "2024-08-30T19:29:51.350924Z"
    },
    "tags": []
   },
   "outputs": [
    {
     "name": "stderr",
     "output_type": "stream",
     "text": [
      "c:\\Users\\Kate\\Desktop\\cv_project\\.venv\\Lib\\site-packages\\transformers\\tokenization_utils_base.py:1601: FutureWarning: `clean_up_tokenization_spaces` was not set. It will be set to `True` by default. This behavior will be depracted in transformers v4.45, and will be then set to `False` by default. For more details check this issue: https://github.com/huggingface/transformers/issues/31884\n",
      "  warnings.warn(\n"
     ]
    }
   ],
   "source": [
    "model = SentenceTransformer(model_name)\n",
    "# loss = losses.CoSENTLoss(model)\n",
    "loss = losses.ContrastiveLoss(model)\n",
    "#loss = losses.CosineSimilarityLoss(model)"
   ]
  },
  {
   "cell_type": "code",
   "execution_count": 12,
   "metadata": {
    "execution": {
     "iopub.execute_input": "2024-08-30T19:33:06.543606Z",
     "iopub.status.busy": "2024-08-30T19:33:06.543254Z",
     "iopub.status.idle": "2024-08-30T19:33:08.277463Z",
     "shell.execute_reply": "2024-08-30T19:33:08.276842Z",
     "shell.execute_reply.started": "2024-08-30T19:33:06.543587Z"
    }
   },
   "outputs": [
    {
     "name": "stderr",
     "output_type": "stream",
     "text": [
      "c:\\Users\\Kate\\Desktop\\cv_project\\.venv\\Lib\\site-packages\\transformers\\models\\bert\\modeling_bert.py:439: UserWarning: 1Torch was not compiled with flash attention. (Triggered internally at C:\\actions-runner\\_work\\pytorch\\pytorch\\builder\\windows\\pytorch\\aten\\src\\ATen\\native\\transformers\\cuda\\sdp_utils.cpp:555.)\n",
      "  attn_output = torch.nn.functional.scaled_dot_product_attention(\n"
     ]
    },
    {
     "data": {
      "text/plain": [
       "{'cv_cosine_accuracy': 0.7142857142857143,\n",
       " 'cv_cosine_accuracy_threshold': 0.6778384447097778,\n",
       " 'cv_cosine_f1': 0.7999999999999999,\n",
       " 'cv_cosine_f1_threshold': 0.6778384447097778,\n",
       " 'cv_cosine_precision': 0.6956521739130435,\n",
       " 'cv_cosine_recall': 0.9411764705882353,\n",
       " 'cv_cosine_ap': 0.7655323961421687,\n",
       " 'cv_dot_accuracy': 0.7142857142857143,\n",
       " 'cv_dot_accuracy_threshold': 0.6778384447097778,\n",
       " 'cv_dot_f1': 0.7999999999999999,\n",
       " 'cv_dot_f1_threshold': 0.6778384447097778,\n",
       " 'cv_dot_precision': 0.6956521739130435,\n",
       " 'cv_dot_recall': 0.9411764705882353,\n",
       " 'cv_dot_ap': 0.7655323961421687,\n",
       " 'cv_manhattan_accuracy': 0.6785714285714286,\n",
       " 'cv_manhattan_accuracy_threshold': 11.036173820495605,\n",
       " 'cv_manhattan_f1': 0.7804878048780487,\n",
       " 'cv_manhattan_f1_threshold': 11.298966407775879,\n",
       " 'cv_manhattan_precision': 0.6666666666666666,\n",
       " 'cv_manhattan_recall': 0.9411764705882353,\n",
       " 'cv_manhattan_ap': 0.7596160535606904,\n",
       " 'cv_euclidean_accuracy': 0.7142857142857143,\n",
       " 'cv_euclidean_accuracy_threshold': 0.8026942014694214,\n",
       " 'cv_euclidean_f1': 0.7999999999999999,\n",
       " 'cv_euclidean_f1_threshold': 0.8026942014694214,\n",
       " 'cv_euclidean_precision': 0.6956521739130435,\n",
       " 'cv_euclidean_recall': 0.9411764705882353,\n",
       " 'cv_euclidean_ap': 0.7655323961421687,\n",
       " 'cv_max_accuracy': 0.7142857142857143,\n",
       " 'cv_max_accuracy_threshold': 11.036173820495605,\n",
       " 'cv_max_f1': 0.7999999999999999,\n",
       " 'cv_max_f1_threshold': 11.298966407775879,\n",
       " 'cv_max_precision': 0.6956521739130435,\n",
       " 'cv_max_recall': 0.9411764705882353,\n",
       " 'cv_max_ap': 0.7655323961421687}"
      ]
     },
     "execution_count": 12,
     "metadata": {},
     "output_type": "execute_result"
    }
   ],
   "source": [
    "binary_acc_evaluator = BinaryClassificationEvaluator(\n",
    "    sentences1=test_dataset[\"sentence1\"],\n",
    "    sentences2=test_dataset[\"sentence2\"],\n",
    "    labels=test_dataset[\"score\"],\n",
    "    name=\"cv\",\n",
    ")\n",
    "results = binary_acc_evaluator(model)\n",
    "results"
   ]
  },
  {
   "cell_type": "code",
   "execution_count": 13,
   "metadata": {
    "execution": {
     "iopub.execute_input": "2024-08-30T19:33:08.278479Z",
     "iopub.status.busy": "2024-08-30T19:33:08.278214Z",
     "iopub.status.idle": "2024-08-30T19:33:08.286082Z",
     "shell.execute_reply": "2024-08-30T19:33:08.285535Z",
     "shell.execute_reply.started": "2024-08-30T19:33:08.278460Z"
    }
   },
   "outputs": [],
   "source": [
    "output_dir = 'tiny_sent_transformer_v2'"
   ]
  },
  {
   "cell_type": "code",
   "execution_count": 14,
   "metadata": {},
   "outputs": [],
   "source": [
    "with open(\"config.json\", \"r\") as f:\n",
    "    json_config = json.load(f)\n",
    "TOKEN = json_config[\"token\"]"
   ]
  },
  {
   "cell_type": "code",
   "execution_count": 15,
   "metadata": {
    "execution": {
     "iopub.execute_input": "2024-08-30T19:33:08.314460Z",
     "iopub.status.busy": "2024-08-30T19:33:08.314208Z",
     "iopub.status.idle": "2024-08-30T19:33:11.054752Z",
     "shell.execute_reply": "2024-08-30T19:33:11.053754Z",
     "shell.execute_reply.started": "2024-08-30T19:33:08.314443Z"
    }
   },
   "outputs": [],
   "source": [
    "HfFolder.save_token(TOKEN)"
   ]
  },
  {
   "cell_type": "code",
   "execution_count": 16,
   "metadata": {
    "execution": {
     "iopub.execute_input": "2024-08-30T19:33:11.055863Z",
     "iopub.status.busy": "2024-08-30T19:33:11.055583Z",
     "iopub.status.idle": "2024-08-30T19:33:11.082731Z",
     "shell.execute_reply": "2024-08-30T19:33:11.082159Z",
     "shell.execute_reply.started": "2024-08-30T19:33:11.055844Z"
    },
    "tags": []
   },
   "outputs": [
    {
     "name": "stderr",
     "output_type": "stream",
     "text": [
      "c:\\Users\\Kate\\Desktop\\cv_project\\.venv\\Lib\\site-packages\\transformers\\training_args.py:1525: FutureWarning: `evaluation_strategy` is deprecated and will be removed in version 4.46 of 🤗 Transformers. Use `eval_strategy` instead\n",
      "  warnings.warn(\n"
     ]
    }
   ],
   "source": [
    "# 5. Define the training arguments\n",
    "args = SentenceTransformerTrainingArguments(\n",
    "    # Required parameter:\n",
    "    output_dir=output_dir,\n",
    "    # Optional training parameters:\n",
    "    num_train_epochs=num_epochs,\n",
    "    per_device_train_batch_size=train_batch_size,\n",
    "    per_device_eval_batch_size=train_batch_size,\n",
    "    warmup_ratio=0.1,\n",
    "    fp16=True,  # Set to False if you get an error that your GPU can't run on FP16\n",
    "    bf16=False,  # Set to True if you have a GPU that supports BF16\n",
    "    # Optional tracking/debugging parameters:\n",
    "    evaluation_strategy=\"epoch\",\n",
    "    save_strategy=\"no\",\n",
    "    hub_token=HfFolder.get_token(),\n",
    ")"
   ]
  },
  {
   "cell_type": "code",
   "execution_count": 17,
   "metadata": {
    "execution": {
     "iopub.execute_input": "2024-08-30T19:33:11.083953Z",
     "iopub.status.busy": "2024-08-30T19:33:11.083404Z",
     "iopub.status.idle": "2024-08-30T21:31:22.371143Z"
    },
    "tags": []
   },
   "outputs": [
    {
     "name": "stderr",
     "output_type": "stream",
     "text": [
      "c:\\Users\\Kate\\Desktop\\cv_project\\.venv\\Lib\\site-packages\\accelerate\\accelerator.py:494: FutureWarning: `torch.cuda.amp.GradScaler(args...)` is deprecated. Please use `torch.amp.GradScaler('cuda', args...)` instead.\n",
      "  self.scaler = torch.cuda.amp.GradScaler(**kwargs)\n",
      "\u001b[34m\u001b[1mwandb\u001b[0m: \u001b[33mWARNING\u001b[0m The `run_name` is currently set to the same value as `TrainingArguments.output_dir`. If this was not intended, please specify a different run name by setting the `TrainingArguments.run_name` parameter.\n",
      "Failed to detect the name of this notebook, you can set it manually with the WANDB_NOTEBOOK_NAME environment variable to enable code saving.\n",
      "\u001b[34m\u001b[1mwandb\u001b[0m: Currently logged in as: \u001b[33mkatya_shakhova\u001b[0m (\u001b[33mshakhova\u001b[0m). Use \u001b[1m`wandb login --relogin`\u001b[0m to force relogin\n"
     ]
    },
    {
     "data": {
      "text/html": [
       "Tracking run with wandb version 0.17.9"
      ],
      "text/plain": [
       "<IPython.core.display.HTML object>"
      ]
     },
     "metadata": {},
     "output_type": "display_data"
    },
    {
     "data": {
      "text/html": [
       "Run data is saved locally in <code>c:\\Users\\Kate\\Desktop\\cv_project\\wandb\\run-20240915_181013-5c43vhg4</code>"
      ],
      "text/plain": [
       "<IPython.core.display.HTML object>"
      ]
     },
     "metadata": {},
     "output_type": "display_data"
    },
    {
     "data": {
      "text/html": [
       "Syncing run <strong><a href='https://wandb.ai/shakhova/sentence-transformers/runs/5c43vhg4' target=\"_blank\">tiny_sent_transformer_v2</a></strong> to <a href='https://wandb.ai/shakhova/sentence-transformers' target=\"_blank\">Weights & Biases</a> (<a href='https://wandb.me/run' target=\"_blank\">docs</a>)<br/>"
      ],
      "text/plain": [
       "<IPython.core.display.HTML object>"
      ]
     },
     "metadata": {},
     "output_type": "display_data"
    },
    {
     "data": {
      "text/html": [
       " View project at <a href='https://wandb.ai/shakhova/sentence-transformers' target=\"_blank\">https://wandb.ai/shakhova/sentence-transformers</a>"
      ],
      "text/plain": [
       "<IPython.core.display.HTML object>"
      ]
     },
     "metadata": {},
     "output_type": "display_data"
    },
    {
     "data": {
      "text/html": [
       " View run at <a href='https://wandb.ai/shakhova/sentence-transformers/runs/5c43vhg4' target=\"_blank\">https://wandb.ai/shakhova/sentence-transformers/runs/5c43vhg4</a>"
      ],
      "text/plain": [
       "<IPython.core.display.HTML object>"
      ]
     },
     "metadata": {},
     "output_type": "display_data"
    },
    {
     "data": {
      "application/vnd.jupyter.widget-view+json": {
       "model_id": "776015c3898543b6985eeaca4c28c75e",
       "version_major": 2,
       "version_minor": 0
      },
      "text/plain": [
       "  0%|          | 0/4280 [00:00<?, ?it/s]"
      ]
     },
     "metadata": {},
     "output_type": "display_data"
    },
    {
     "data": {
      "application/vnd.jupyter.widget-view+json": {
       "model_id": "4192dab4c0384817986955beec860a92",
       "version_major": 2,
       "version_minor": 0
      },
      "text/plain": [
       "  0%|          | 0/1 [00:00<?, ?it/s]"
      ]
     },
     "metadata": {},
     "output_type": "display_data"
    },
    {
     "name": "stdout",
     "output_type": "stream",
     "text": [
      "{'eval_loss': 0.0056248256005346775, 'eval_cv_cosine_accuracy': 1.0, 'eval_cv_cosine_accuracy_threshold': 0.70265793800354, 'eval_cv_cosine_f1': 1.0, 'eval_cv_cosine_f1_threshold': 0.70265793800354, 'eval_cv_cosine_precision': 1.0, 'eval_cv_cosine_recall': 1.0, 'eval_cv_cosine_ap': 1.0, 'eval_cv_dot_accuracy': 1.0, 'eval_cv_dot_accuracy_threshold': 0.70265793800354, 'eval_cv_dot_f1': 1.0, 'eval_cv_dot_f1_threshold': 0.70265793800354, 'eval_cv_dot_precision': 1.0, 'eval_cv_dot_recall': 1.0, 'eval_cv_dot_ap': 1.0, 'eval_cv_manhattan_accuracy': 1.0, 'eval_cv_manhattan_accuracy_threshold': 10.755304336547852, 'eval_cv_manhattan_f1': 1.0, 'eval_cv_manhattan_f1_threshold': 10.755304336547852, 'eval_cv_manhattan_precision': 1.0, 'eval_cv_manhattan_recall': 1.0, 'eval_cv_manhattan_ap': 1.0, 'eval_cv_euclidean_accuracy': 1.0, 'eval_cv_euclidean_accuracy_threshold': 0.7711576223373413, 'eval_cv_euclidean_f1': 1.0, 'eval_cv_euclidean_f1_threshold': 0.7711576223373413, 'eval_cv_euclidean_precision': 1.0, 'eval_cv_euclidean_recall': 1.0, 'eval_cv_euclidean_ap': 1.0, 'eval_cv_max_accuracy': 1.0, 'eval_cv_max_accuracy_threshold': 10.755304336547852, 'eval_cv_max_f1': 1.0, 'eval_cv_max_f1_threshold': 10.755304336547852, 'eval_cv_max_precision': 1.0, 'eval_cv_max_recall': 1.0, 'eval_cv_max_ap': 1.0, 'eval_runtime': 0.026, 'eval_samples_per_second': 1076.586, 'eval_steps_per_second': 38.45, 'epoch': 1.0}\n",
      "{'loss': 0.0078, 'grad_norm': 0.05025302618741989, 'learning_rate': 4.9065420560747664e-05, 'epoch': 1.17}\n"
     ]
    },
    {
     "data": {
      "application/vnd.jupyter.widget-view+json": {
       "model_id": "c39df3a35fa949e09c6af000e31ae914",
       "version_major": 2,
       "version_minor": 0
      },
      "text/plain": [
       "  0%|          | 0/1 [00:00<?, ?it/s]"
      ]
     },
     "metadata": {},
     "output_type": "display_data"
    },
    {
     "name": "stdout",
     "output_type": "stream",
     "text": [
      "{'eval_loss': 0.0015162104973569512, 'eval_cv_cosine_accuracy': 1.0, 'eval_cv_cosine_accuracy_threshold': 0.7512955665588379, 'eval_cv_cosine_f1': 1.0, 'eval_cv_cosine_f1_threshold': 0.7512955665588379, 'eval_cv_cosine_precision': 1.0, 'eval_cv_cosine_recall': 1.0, 'eval_cv_cosine_ap': 1.0, 'eval_cv_dot_accuracy': 1.0, 'eval_cv_dot_accuracy_threshold': 0.7512956857681274, 'eval_cv_dot_f1': 1.0, 'eval_cv_dot_f1_threshold': 0.7512956857681274, 'eval_cv_dot_precision': 1.0, 'eval_cv_dot_recall': 1.0, 'eval_cv_dot_ap': 1.0, 'eval_cv_manhattan_accuracy': 1.0, 'eval_cv_manhattan_accuracy_threshold': 9.633075714111328, 'eval_cv_manhattan_f1': 1.0, 'eval_cv_manhattan_f1_threshold': 9.633075714111328, 'eval_cv_manhattan_precision': 1.0, 'eval_cv_manhattan_recall': 1.0, 'eval_cv_manhattan_ap': 1.0, 'eval_cv_euclidean_accuracy': 1.0, 'eval_cv_euclidean_accuracy_threshold': 0.6830845475196838, 'eval_cv_euclidean_f1': 1.0, 'eval_cv_euclidean_f1_threshold': 0.6830845475196838, 'eval_cv_euclidean_precision': 1.0, 'eval_cv_euclidean_recall': 1.0, 'eval_cv_euclidean_ap': 1.0, 'eval_cv_max_accuracy': 1.0, 'eval_cv_max_accuracy_threshold': 9.633075714111328, 'eval_cv_max_f1': 1.0, 'eval_cv_max_f1_threshold': 9.633075714111328, 'eval_cv_max_precision': 1.0, 'eval_cv_max_recall': 1.0, 'eval_cv_max_ap': 1.0, 'eval_runtime': 0.0275, 'eval_samples_per_second': 1019.387, 'eval_steps_per_second': 36.407, 'epoch': 2.0}\n",
      "{'loss': 0.0019, 'grad_norm': 0.019041994586586952, 'learning_rate': 4.257528556593977e-05, 'epoch': 2.34}\n"
     ]
    },
    {
     "data": {
      "application/vnd.jupyter.widget-view+json": {
       "model_id": "aca0c350536f45cfb9610cf8792b19a4",
       "version_major": 2,
       "version_minor": 0
      },
      "text/plain": [
       "  0%|          | 0/1 [00:00<?, ?it/s]"
      ]
     },
     "metadata": {},
     "output_type": "display_data"
    },
    {
     "name": "stdout",
     "output_type": "stream",
     "text": [
      "{'eval_loss': 0.0011137289693579078, 'eval_cv_cosine_accuracy': 1.0, 'eval_cv_cosine_accuracy_threshold': 0.6815482378005981, 'eval_cv_cosine_f1': 1.0, 'eval_cv_cosine_f1_threshold': 0.6815482378005981, 'eval_cv_cosine_precision': 1.0, 'eval_cv_cosine_recall': 1.0, 'eval_cv_cosine_ap': 1.0, 'eval_cv_dot_accuracy': 1.0, 'eval_cv_dot_accuracy_threshold': 0.6815483570098877, 'eval_cv_dot_f1': 1.0, 'eval_cv_dot_f1_threshold': 0.6815483570098877, 'eval_cv_dot_precision': 1.0, 'eval_cv_dot_recall': 1.0, 'eval_cv_dot_ap': 1.0, 'eval_cv_manhattan_accuracy': 1.0, 'eval_cv_manhattan_accuracy_threshold': 10.668746948242188, 'eval_cv_manhattan_f1': 1.0, 'eval_cv_manhattan_f1_threshold': 10.668746948242188, 'eval_cv_manhattan_precision': 1.0, 'eval_cv_manhattan_recall': 1.0, 'eval_cv_manhattan_ap': 1.0, 'eval_cv_euclidean_accuracy': 1.0, 'eval_cv_euclidean_accuracy_threshold': 0.7667192220687866, 'eval_cv_euclidean_f1': 1.0, 'eval_cv_euclidean_f1_threshold': 0.7667192220687866, 'eval_cv_euclidean_precision': 1.0, 'eval_cv_euclidean_recall': 1.0, 'eval_cv_euclidean_ap': 1.0, 'eval_cv_max_accuracy': 1.0, 'eval_cv_max_accuracy_threshold': 10.668746948242188, 'eval_cv_max_f1': 1.0, 'eval_cv_max_f1_threshold': 10.668746948242188, 'eval_cv_max_precision': 1.0, 'eval_cv_max_recall': 1.0, 'eval_cv_max_ap': 1.0, 'eval_runtime': 0.025, 'eval_samples_per_second': 1119.974, 'eval_steps_per_second': 39.999, 'epoch': 3.0}\n",
      "{'loss': 0.0013, 'grad_norm': 0.03920518606901169, 'learning_rate': 3.608515057113188e-05, 'epoch': 3.5}\n"
     ]
    },
    {
     "data": {
      "application/vnd.jupyter.widget-view+json": {
       "model_id": "3b5c7af64d3d412487535506752f4575",
       "version_major": 2,
       "version_minor": 0
      },
      "text/plain": [
       "  0%|          | 0/1 [00:00<?, ?it/s]"
      ]
     },
     "metadata": {},
     "output_type": "display_data"
    },
    {
     "name": "stdout",
     "output_type": "stream",
     "text": [
      "{'eval_loss': 0.0007361729512922466, 'eval_cv_cosine_accuracy': 1.0, 'eval_cv_cosine_accuracy_threshold': 0.663303554058075, 'eval_cv_cosine_f1': 1.0, 'eval_cv_cosine_f1_threshold': 0.663303554058075, 'eval_cv_cosine_precision': 1.0, 'eval_cv_cosine_recall': 1.0, 'eval_cv_cosine_ap': 1.0, 'eval_cv_dot_accuracy': 1.0, 'eval_cv_dot_accuracy_threshold': 0.6633034944534302, 'eval_cv_dot_f1': 1.0, 'eval_cv_dot_f1_threshold': 0.6633034944534302, 'eval_cv_dot_precision': 1.0, 'eval_cv_dot_recall': 1.0, 'eval_cv_dot_ap': 1.0, 'eval_cv_manhattan_accuracy': 1.0, 'eval_cv_manhattan_accuracy_threshold': 10.777328491210938, 'eval_cv_manhattan_f1': 1.0, 'eval_cv_manhattan_f1_threshold': 10.777328491210938, 'eval_cv_manhattan_precision': 1.0, 'eval_cv_manhattan_recall': 1.0, 'eval_cv_manhattan_ap': 1.0, 'eval_cv_euclidean_accuracy': 1.0, 'eval_cv_euclidean_accuracy_threshold': 0.7874004244804382, 'eval_cv_euclidean_f1': 1.0, 'eval_cv_euclidean_f1_threshold': 0.7874004244804382, 'eval_cv_euclidean_precision': 1.0, 'eval_cv_euclidean_recall': 1.0, 'eval_cv_euclidean_ap': 1.0, 'eval_cv_max_accuracy': 1.0, 'eval_cv_max_accuracy_threshold': 10.777328491210938, 'eval_cv_max_f1': 1.0, 'eval_cv_max_f1_threshold': 10.777328491210938, 'eval_cv_max_precision': 1.0, 'eval_cv_max_recall': 1.0, 'eval_cv_max_ap': 1.0, 'eval_runtime': 0.023, 'eval_samples_per_second': 1217.341, 'eval_steps_per_second': 43.476, 'epoch': 4.0}\n",
      "{'loss': 0.001, 'grad_norm': 0.00572182796895504, 'learning_rate': 2.9595015576323987e-05, 'epoch': 4.67}\n"
     ]
    },
    {
     "data": {
      "application/vnd.jupyter.widget-view+json": {
       "model_id": "43cb8f4ff4e746f390051068f0be0a7c",
       "version_major": 2,
       "version_minor": 0
      },
      "text/plain": [
       "  0%|          | 0/1 [00:00<?, ?it/s]"
      ]
     },
     "metadata": {},
     "output_type": "display_data"
    },
    {
     "name": "stdout",
     "output_type": "stream",
     "text": [
      "{'eval_loss': 0.0003793331270571798, 'eval_cv_cosine_accuracy': 1.0, 'eval_cv_cosine_accuracy_threshold': 0.7298336029052734, 'eval_cv_cosine_f1': 1.0, 'eval_cv_cosine_f1_threshold': 0.7298336029052734, 'eval_cv_cosine_precision': 1.0, 'eval_cv_cosine_recall': 1.0, 'eval_cv_cosine_ap': 1.0, 'eval_cv_dot_accuracy': 1.0, 'eval_cv_dot_accuracy_threshold': 0.7298336029052734, 'eval_cv_dot_f1': 1.0, 'eval_cv_dot_f1_threshold': 0.7298336029052734, 'eval_cv_dot_precision': 1.0, 'eval_cv_dot_recall': 1.0, 'eval_cv_dot_ap': 1.0, 'eval_cv_manhattan_accuracy': 1.0, 'eval_cv_manhattan_accuracy_threshold': 9.359941482543945, 'eval_cv_manhattan_f1': 1.0, 'eval_cv_manhattan_f1_threshold': 9.359941482543945, 'eval_cv_manhattan_precision': 1.0, 'eval_cv_manhattan_recall': 1.0, 'eval_cv_manhattan_ap': 1.0, 'eval_cv_euclidean_accuracy': 1.0, 'eval_cv_euclidean_accuracy_threshold': 0.6845762133598328, 'eval_cv_euclidean_f1': 1.0, 'eval_cv_euclidean_f1_threshold': 0.6845762133598328, 'eval_cv_euclidean_precision': 1.0, 'eval_cv_euclidean_recall': 1.0, 'eval_cv_euclidean_ap': 1.0, 'eval_cv_max_accuracy': 1.0, 'eval_cv_max_accuracy_threshold': 9.359941482543945, 'eval_cv_max_f1': 1.0, 'eval_cv_max_f1_threshold': 9.359941482543945, 'eval_cv_max_precision': 1.0, 'eval_cv_max_recall': 1.0, 'eval_cv_max_ap': 1.0, 'eval_runtime': 0.024, 'eval_samples_per_second': 1165.802, 'eval_steps_per_second': 41.636, 'epoch': 5.0}\n",
      "{'loss': 0.0008, 'grad_norm': 0.015858620405197144, 'learning_rate': 2.3104880581516096e-05, 'epoch': 5.84}\n"
     ]
    },
    {
     "data": {
      "application/vnd.jupyter.widget-view+json": {
       "model_id": "7dff959baee8421faf0b96a06fcd484e",
       "version_major": 2,
       "version_minor": 0
      },
      "text/plain": [
       "  0%|          | 0/1 [00:00<?, ?it/s]"
      ]
     },
     "metadata": {},
     "output_type": "display_data"
    },
    {
     "name": "stdout",
     "output_type": "stream",
     "text": [
      "{'eval_loss': 0.00019296162645332515, 'eval_cv_cosine_accuracy': 1.0, 'eval_cv_cosine_accuracy_threshold': 0.7211805582046509, 'eval_cv_cosine_f1': 1.0, 'eval_cv_cosine_f1_threshold': 0.7211805582046509, 'eval_cv_cosine_precision': 1.0, 'eval_cv_cosine_recall': 1.0, 'eval_cv_cosine_ap': 1.0, 'eval_cv_dot_accuracy': 1.0, 'eval_cv_dot_accuracy_threshold': 0.7211805582046509, 'eval_cv_dot_f1': 1.0, 'eval_cv_dot_f1_threshold': 0.7211805582046509, 'eval_cv_dot_precision': 1.0, 'eval_cv_dot_recall': 1.0, 'eval_cv_dot_ap': 1.0, 'eval_cv_manhattan_accuracy': 1.0, 'eval_cv_manhattan_accuracy_threshold': 9.254554748535156, 'eval_cv_manhattan_f1': 1.0, 'eval_cv_manhattan_f1_threshold': 9.254554748535156, 'eval_cv_manhattan_precision': 1.0, 'eval_cv_manhattan_recall': 1.0, 'eval_cv_manhattan_ap': 1.0, 'eval_cv_euclidean_accuracy': 1.0, 'eval_cv_euclidean_accuracy_threshold': 0.672174334526062, 'eval_cv_euclidean_f1': 1.0, 'eval_cv_euclidean_f1_threshold': 0.672174334526062, 'eval_cv_euclidean_precision': 1.0, 'eval_cv_euclidean_recall': 1.0, 'eval_cv_euclidean_ap': 1.0, 'eval_cv_max_accuracy': 1.0, 'eval_cv_max_accuracy_threshold': 9.254554748535156, 'eval_cv_max_f1': 1.0, 'eval_cv_max_f1_threshold': 9.254554748535156, 'eval_cv_max_precision': 1.0, 'eval_cv_max_recall': 1.0, 'eval_cv_max_ap': 1.0, 'eval_runtime': 0.026, 'eval_samples_per_second': 1076.922, 'eval_steps_per_second': 38.462, 'epoch': 6.0}\n"
     ]
    },
    {
     "data": {
      "application/vnd.jupyter.widget-view+json": {
       "model_id": "ac140f646a634f7d934ebb6c7cbbbf55",
       "version_major": 2,
       "version_minor": 0
      },
      "text/plain": [
       "  0%|          | 0/1 [00:00<?, ?it/s]"
      ]
     },
     "metadata": {},
     "output_type": "display_data"
    },
    {
     "name": "stdout",
     "output_type": "stream",
     "text": [
      "{'eval_loss': 0.00017789019329939038, 'eval_cv_cosine_accuracy': 1.0, 'eval_cv_cosine_accuracy_threshold': 0.707309901714325, 'eval_cv_cosine_f1': 1.0, 'eval_cv_cosine_f1_threshold': 0.707309901714325, 'eval_cv_cosine_precision': 1.0, 'eval_cv_cosine_recall': 1.0, 'eval_cv_cosine_ap': 1.0, 'eval_cv_dot_accuracy': 1.0, 'eval_cv_dot_accuracy_threshold': 0.707309901714325, 'eval_cv_dot_f1': 1.0, 'eval_cv_dot_f1_threshold': 0.707309901714325, 'eval_cv_dot_precision': 1.0, 'eval_cv_dot_recall': 1.0, 'eval_cv_dot_ap': 1.0, 'eval_cv_manhattan_accuracy': 1.0, 'eval_cv_manhattan_accuracy_threshold': 9.434028625488281, 'eval_cv_manhattan_f1': 1.0, 'eval_cv_manhattan_f1_threshold': 9.434028625488281, 'eval_cv_manhattan_precision': 1.0, 'eval_cv_manhattan_recall': 1.0, 'eval_cv_manhattan_ap': 1.0, 'eval_cv_euclidean_accuracy': 1.0, 'eval_cv_euclidean_accuracy_threshold': 0.6903454661369324, 'eval_cv_euclidean_f1': 1.0, 'eval_cv_euclidean_f1_threshold': 0.6903454661369324, 'eval_cv_euclidean_precision': 1.0, 'eval_cv_euclidean_recall': 1.0, 'eval_cv_euclidean_ap': 1.0, 'eval_cv_max_accuracy': 1.0, 'eval_cv_max_accuracy_threshold': 9.434028625488281, 'eval_cv_max_f1': 1.0, 'eval_cv_max_f1_threshold': 9.434028625488281, 'eval_cv_max_precision': 1.0, 'eval_cv_max_recall': 1.0, 'eval_cv_max_ap': 1.0, 'eval_runtime': 0.027, 'eval_samples_per_second': 1036.215, 'eval_steps_per_second': 37.008, 'epoch': 7.0}\n",
      "{'loss': 0.0007, 'grad_norm': 0.0019719447009265423, 'learning_rate': 1.6614745586708205e-05, 'epoch': 7.01}\n"
     ]
    },
    {
     "data": {
      "application/vnd.jupyter.widget-view+json": {
       "model_id": "8e9985cc41414283b3ba689ed4518d19",
       "version_major": 2,
       "version_minor": 0
      },
      "text/plain": [
       "  0%|          | 0/1 [00:00<?, ?it/s]"
      ]
     },
     "metadata": {},
     "output_type": "display_data"
    },
    {
     "name": "stdout",
     "output_type": "stream",
     "text": [
      "{'eval_loss': 0.00014209300570655614, 'eval_cv_cosine_accuracy': 1.0, 'eval_cv_cosine_accuracy_threshold': 0.7282200455665588, 'eval_cv_cosine_f1': 1.0, 'eval_cv_cosine_f1_threshold': 0.7282200455665588, 'eval_cv_cosine_precision': 1.0, 'eval_cv_cosine_recall': 1.0, 'eval_cv_cosine_ap': 1.0, 'eval_cv_dot_accuracy': 1.0, 'eval_cv_dot_accuracy_threshold': 0.7282200455665588, 'eval_cv_dot_f1': 1.0, 'eval_cv_dot_f1_threshold': 0.7282200455665588, 'eval_cv_dot_precision': 1.0, 'eval_cv_dot_recall': 1.0, 'eval_cv_dot_ap': 1.0, 'eval_cv_manhattan_accuracy': 1.0, 'eval_cv_manhattan_accuracy_threshold': 9.142365455627441, 'eval_cv_manhattan_f1': 1.0, 'eval_cv_manhattan_f1_threshold': 9.142365455627441, 'eval_cv_manhattan_precision': 1.0, 'eval_cv_manhattan_recall': 1.0, 'eval_cv_manhattan_ap': 1.0, 'eval_cv_euclidean_accuracy': 1.0, 'eval_cv_euclidean_accuracy_threshold': 0.6609802842140198, 'eval_cv_euclidean_f1': 1.0, 'eval_cv_euclidean_f1_threshold': 0.6609802842140198, 'eval_cv_euclidean_precision': 1.0, 'eval_cv_euclidean_recall': 1.0, 'eval_cv_euclidean_ap': 1.0, 'eval_cv_max_accuracy': 1.0, 'eval_cv_max_accuracy_threshold': 9.142365455627441, 'eval_cv_max_f1': 1.0, 'eval_cv_max_f1_threshold': 9.142365455627441, 'eval_cv_max_precision': 1.0, 'eval_cv_max_recall': 1.0, 'eval_cv_max_ap': 1.0, 'eval_runtime': 0.024, 'eval_samples_per_second': 1166.635, 'eval_steps_per_second': 41.666, 'epoch': 8.0}\n",
      "{'loss': 0.0006, 'grad_norm': 0.003339604241773486, 'learning_rate': 1.0124610591900312e-05, 'epoch': 8.18}\n"
     ]
    },
    {
     "data": {
      "application/vnd.jupyter.widget-view+json": {
       "model_id": "09be76ec792540b9a77d0abeeadf0f34",
       "version_major": 2,
       "version_minor": 0
      },
      "text/plain": [
       "  0%|          | 0/1 [00:00<?, ?it/s]"
      ]
     },
     "metadata": {},
     "output_type": "display_data"
    },
    {
     "name": "stdout",
     "output_type": "stream",
     "text": [
      "{'eval_loss': 8.968743350123987e-05, 'eval_cv_cosine_accuracy': 1.0, 'eval_cv_cosine_accuracy_threshold': 0.7283456325531006, 'eval_cv_cosine_f1': 1.0, 'eval_cv_cosine_f1_threshold': 0.7283456325531006, 'eval_cv_cosine_precision': 1.0, 'eval_cv_cosine_recall': 1.0, 'eval_cv_cosine_ap': 1.0, 'eval_cv_dot_accuracy': 1.0, 'eval_cv_dot_accuracy_threshold': 0.7283456325531006, 'eval_cv_dot_f1': 1.0, 'eval_cv_dot_f1_threshold': 0.7283456325531006, 'eval_cv_dot_precision': 1.0, 'eval_cv_dot_recall': 1.0, 'eval_cv_dot_ap': 1.0, 'eval_cv_manhattan_accuracy': 1.0, 'eval_cv_manhattan_accuracy_threshold': 8.987017631530762, 'eval_cv_manhattan_f1': 1.0, 'eval_cv_manhattan_f1_threshold': 8.987017631530762, 'eval_cv_manhattan_precision': 1.0, 'eval_cv_manhattan_recall': 1.0, 'eval_cv_manhattan_ap': 1.0, 'eval_cv_euclidean_accuracy': 1.0, 'eval_cv_euclidean_accuracy_threshold': 0.6474648714065552, 'eval_cv_euclidean_f1': 1.0, 'eval_cv_euclidean_f1_threshold': 0.6474648714065552, 'eval_cv_euclidean_precision': 1.0, 'eval_cv_euclidean_recall': 1.0, 'eval_cv_euclidean_ap': 1.0, 'eval_cv_max_accuracy': 1.0, 'eval_cv_max_accuracy_threshold': 8.987017631530762, 'eval_cv_max_f1': 1.0, 'eval_cv_max_f1_threshold': 8.987017631530762, 'eval_cv_max_precision': 1.0, 'eval_cv_max_recall': 1.0, 'eval_cv_max_ap': 1.0, 'eval_runtime': 0.0257, 'eval_samples_per_second': 1087.452, 'eval_steps_per_second': 38.838, 'epoch': 9.0}\n",
      "{'loss': 0.0005, 'grad_norm': 0.006477113347500563, 'learning_rate': 3.6344755970924198e-06, 'epoch': 9.35}\n"
     ]
    },
    {
     "data": {
      "application/vnd.jupyter.widget-view+json": {
       "model_id": "acc8e290a1bf453786b242dc50fcb5fd",
       "version_major": 2,
       "version_minor": 0
      },
      "text/plain": [
       "  0%|          | 0/1 [00:00<?, ?it/s]"
      ]
     },
     "metadata": {},
     "output_type": "display_data"
    },
    {
     "name": "stdout",
     "output_type": "stream",
     "text": [
      "{'eval_loss': 8.795221947366372e-05, 'eval_cv_cosine_accuracy': 1.0, 'eval_cv_cosine_accuracy_threshold': 0.7240798473358154, 'eval_cv_cosine_f1': 1.0, 'eval_cv_cosine_f1_threshold': 0.7240798473358154, 'eval_cv_cosine_precision': 1.0, 'eval_cv_cosine_recall': 1.0, 'eval_cv_cosine_ap': 1.0, 'eval_cv_dot_accuracy': 1.0, 'eval_cv_dot_accuracy_threshold': 0.7240797877311707, 'eval_cv_dot_f1': 1.0, 'eval_cv_dot_f1_threshold': 0.7240797877311707, 'eval_cv_dot_precision': 1.0, 'eval_cv_dot_recall': 1.0, 'eval_cv_dot_ap': 1.0, 'eval_cv_manhattan_accuracy': 1.0, 'eval_cv_manhattan_accuracy_threshold': 9.055404663085938, 'eval_cv_manhattan_f1': 1.0, 'eval_cv_manhattan_f1_threshold': 9.055404663085938, 'eval_cv_manhattan_precision': 1.0, 'eval_cv_manhattan_recall': 1.0, 'eval_cv_manhattan_ap': 1.0, 'eval_cv_euclidean_accuracy': 1.0, 'eval_cv_euclidean_accuracy_threshold': 0.6519391536712646, 'eval_cv_euclidean_f1': 1.0, 'eval_cv_euclidean_f1_threshold': 0.6519391536712646, 'eval_cv_euclidean_precision': 1.0, 'eval_cv_euclidean_recall': 1.0, 'eval_cv_euclidean_ap': 1.0, 'eval_cv_max_accuracy': 1.0, 'eval_cv_max_accuracy_threshold': 9.055404663085938, 'eval_cv_max_f1': 1.0, 'eval_cv_max_f1_threshold': 9.055404663085938, 'eval_cv_max_precision': 1.0, 'eval_cv_max_recall': 1.0, 'eval_cv_max_ap': 1.0, 'eval_runtime': 0.0271, 'eval_samples_per_second': 1035.019, 'eval_steps_per_second': 36.965, 'epoch': 10.0}\n",
      "{'train_runtime': 113.3171, 'train_samples_per_second': 1208.114, 'train_steps_per_second': 37.77, 'train_loss': 0.0017390777713784547, 'epoch': 10.0}\n"
     ]
    },
    {
     "data": {
      "text/plain": [
       "TrainOutput(global_step=4280, training_loss=0.0017390777713784547, metrics={'train_runtime': 113.3171, 'train_samples_per_second': 1208.114, 'train_steps_per_second': 37.77, 'total_flos': 0.0, 'train_loss': 0.0017390777713784547, 'epoch': 10.0})"
      ]
     },
     "execution_count": 17,
     "metadata": {},
     "output_type": "execute_result"
    }
   ],
   "source": [
    "# 6. Create the trainer & start training\n",
    "trainer = SentenceTransformerTrainer(\n",
    "    model=model,\n",
    "    args=args,\n",
    "    train_dataset=train_dataset,\n",
    "    eval_dataset=test_dataset,\n",
    "    loss=loss,\n",
    "    evaluator=binary_acc_evaluator,\n",
    ")\n",
    "trainer.train()"
   ]
  },
  {
   "cell_type": "code",
   "execution_count": 18,
   "metadata": {
    "execution": {
     "iopub.execute_input": "2024-08-30T21:36:46.838928Z",
     "iopub.status.busy": "2024-08-30T21:36:46.838587Z",
     "iopub.status.idle": "2024-08-30T21:36:47.004813Z",
     "shell.execute_reply": "2024-08-30T21:36:47.004140Z",
     "shell.execute_reply.started": "2024-08-30T21:36:46.838905Z"
    },
    "tags": []
   },
   "outputs": [
    {
     "data": {
      "application/vnd.jupyter.widget-view+json": {
       "model_id": "d69b2ce65dbe4565a68dfdb489fcef28",
       "version_major": 2,
       "version_minor": 0
      },
      "text/plain": [
       "Computing widget examples:   0%|          | 0/1 [00:00<?, ?example/s]"
      ]
     },
     "metadata": {},
     "output_type": "display_data"
    }
   ],
   "source": [
    "trainer.create_model_card()"
   ]
  },
  {
   "cell_type": "code",
   "execution_count": 19,
   "metadata": {
    "execution": {
     "iopub.execute_input": "2024-08-30T21:36:51.757186Z",
     "iopub.status.busy": "2024-08-30T21:36:51.756761Z",
     "iopub.status.idle": "2024-08-30T21:37:05.089964Z",
     "shell.execute_reply": "2024-08-30T21:37:05.089256Z",
     "shell.execute_reply.started": "2024-08-30T21:36:51.757157Z"
    },
    "tags": []
   },
   "outputs": [
    {
     "data": {
      "application/vnd.jupyter.widget-view+json": {
       "model_id": "bbcb5d6756a049d89935097ac1eb9993",
       "version_major": 2,
       "version_minor": 0
      },
      "text/plain": [
       "model.safetensors:   0%|          | 0.00/117M [00:00<?, ?B/s]"
      ]
     },
     "metadata": {},
     "output_type": "display_data"
    },
    {
     "data": {
      "application/vnd.jupyter.widget-view+json": {
       "model_id": "06bc639a826e4d79813d16605ecce315",
       "version_major": 2,
       "version_minor": 0
      },
      "text/plain": [
       "Upload 2 LFS files:   0%|          | 0/2 [00:00<?, ?it/s]"
      ]
     },
     "metadata": {},
     "output_type": "display_data"
    },
    {
     "data": {
      "application/vnd.jupyter.widget-view+json": {
       "model_id": "d224c4d62e084348a8dbc666d9e22849",
       "version_major": 2,
       "version_minor": 0
      },
      "text/plain": [
       "training_args.bin:   0%|          | 0.00/5.50k [00:00<?, ?B/s]"
      ]
     },
     "metadata": {},
     "output_type": "display_data"
    },
    {
     "data": {
      "text/plain": [
       "CommitInfo(commit_url='https://huggingface.co/Shakhovak/tiny_sent_transformer_v2/commit/a9e10b476da76b9c5ffd678d4468f8d99b794c13', commit_message='End of training', commit_description='', oid='a9e10b476da76b9c5ffd678d4468f8d99b794c13', pr_url=None, pr_revision=None, pr_num=None)"
      ]
     },
     "execution_count": 19,
     "metadata": {},
     "output_type": "execute_result"
    }
   ],
   "source": [
    "trainer.push_to_hub()"
   ]
  },
  {
   "cell_type": "code",
   "execution_count": 20,
   "metadata": {
    "execution": {
     "iopub.execute_input": "2024-08-30T21:37:13.525638Z",
     "iopub.status.busy": "2024-08-30T21:37:13.525220Z",
     "iopub.status.idle": "2024-08-30T21:37:14.367775Z",
     "shell.execute_reply": "2024-08-30T21:37:14.367102Z",
     "shell.execute_reply.started": "2024-08-30T21:37:13.525615Z"
    },
    "tags": []
   },
   "outputs": [],
   "source": [
    "model.save_pretrained(output_dir)"
   ]
  }
 ],
 "metadata": {
  "kernelspec": {
   "display_name": "DataSphere Kernel",
   "language": "python",
   "name": "python3"
  },
  "language_info": {
   "codemirror_mode": {
    "name": "ipython",
    "version": 3
   },
   "file_extension": ".py",
   "mimetype": "text/x-python",
   "name": "python",
   "nbconvert_exporter": "python",
   "pygments_lexer": "ipython3",
   "version": "3.11.8"
  }
 },
 "nbformat": 4,
 "nbformat_minor": 4
}
