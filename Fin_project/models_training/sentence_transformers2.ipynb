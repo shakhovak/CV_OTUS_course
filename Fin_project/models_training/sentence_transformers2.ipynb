{
 "cells": [
  {
   "cell_type": "code",
   "execution_count": 1,
   "metadata": {
    "execution": {
     "iopub.execute_input": "2024-08-30T19:27:36.736048Z",
     "iopub.status.busy": "2024-08-30T19:27:36.735386Z",
     "iopub.status.idle": "2024-08-30T19:27:41.769476Z",
     "shell.execute_reply": "2024-08-30T19:27:41.768676Z",
     "shell.execute_reply.started": "2024-08-30T19:27:36.736021Z"
    }
   },
   "outputs": [
    {
     "name": "stderr",
     "output_type": "stream",
     "text": [
      "c:\\Users\\Kate\\Desktop\\cv_project\\.venv\\Lib\\site-packages\\sentence_transformers\\cross_encoder\\CrossEncoder.py:13: TqdmExperimentalWarning: Using `tqdm.autonotebook.tqdm` in notebook mode. Use `tqdm.tqdm` instead to force console mode (e.g. in jupyter console)\n",
      "  from tqdm.autonotebook import tqdm, trange\n"
     ]
    }
   ],
   "source": [
    "import pandas as pd\n",
    "import json\n",
    "import numpy as np\n",
    "import pandas as pd\n",
    "from sklearn.model_selection import train_test_split\n",
    "from sentence_transformers import SentenceTransformer, losses\n",
    "import numpy as np\n",
    "import cv2 as cv2\n",
    "from tqdm.notebook import tqdm\n",
    "from torch.utils.data import Dataset\n",
    "from sentence_transformers.trainer import SentenceTransformerTrainer\n",
    "from sentence_transformers.training_args import SentenceTransformerTrainingArguments\n",
    "from sentence_transformers.evaluation import BinaryClassificationEvaluator\n",
    "from huggingface_hub import HfFolder\n",
    "import datasets"
   ]
  },
  {
   "cell_type": "code",
   "execution_count": 2,
   "metadata": {},
   "outputs": [
    {
     "data": {
      "text/html": [
       "<div>\n",
       "<style scoped>\n",
       "    .dataframe tbody tr th:only-of-type {\n",
       "        vertical-align: middle;\n",
       "    }\n",
       "\n",
       "    .dataframe tbody tr th {\n",
       "        vertical-align: top;\n",
       "    }\n",
       "\n",
       "    .dataframe thead th {\n",
       "        text-align: right;\n",
       "    }\n",
       "</style>\n",
       "<table border=\"1\" class=\"dataframe\">\n",
       "  <thead>\n",
       "    <tr style=\"text-align: right;\">\n",
       "      <th></th>\n",
       "      <th>title</th>\n",
       "      <th>price</th>\n",
       "      <th>cat_1</th>\n",
       "      <th>cat_2</th>\n",
       "      <th>cat_3</th>\n",
       "      <th>caracteristics</th>\n",
       "      <th>img_ref</th>\n",
       "      <th>target</th>\n",
       "      <th>dealer</th>\n",
       "    </tr>\n",
       "  </thead>\n",
       "  <tbody>\n",
       "    <tr>\n",
       "      <th>0</th>\n",
       "      <td>Беговая дорожка UNIXFIT MX-990X</td>\n",
       "      <td>120890</td>\n",
       "      <td>Беговые дорожки</td>\n",
       "      <td>UNIXFIT</td>\n",
       "      <td>UNIXFIT MX-990X</td>\n",
       "      <td>Тип электрическая  Уровень базовый Габариты (...</td>\n",
       "      <td>images/begovye_dorozhki/1_begdorozhki_1349.jpeg</td>\n",
       "      <td>begovye_dorozhki</td>\n",
       "      <td>begdorozhki</td>\n",
       "    </tr>\n",
       "    <tr>\n",
       "      <th>1</th>\n",
       "      <td>Беговая дорожка Proxima Ivetta HRC, Арт. PROT-219</td>\n",
       "      <td>139990</td>\n",
       "      <td>Беговые дорожки</td>\n",
       "      <td>Proxima</td>\n",
       "      <td>Proxima Ivetta HRC, Арт. PROT-219</td>\n",
       "      <td>Тип электрическая  Уровень базовый Габариты (...</td>\n",
       "      <td>images/begovye_dorozhki/2_begdorozhki_1463.jpeg</td>\n",
       "      <td>begovye_dorozhki</td>\n",
       "      <td>begdorozhki</td>\n",
       "    </tr>\n",
       "    <tr>\n",
       "      <th>2</th>\n",
       "      <td>Беговая дорожка UNIXFIT MX-990 AC (10,1\" TFT)</td>\n",
       "      <td>159890</td>\n",
       "      <td>Беговые дорожки</td>\n",
       "      <td>UNIXFIT</td>\n",
       "      <td>UNIXFIT MX-990 AC (10,1\" TFT)</td>\n",
       "      <td>Тип электрическая  Уровень полупрофессиональны...</td>\n",
       "      <td>images/begovye_dorozhki/3_begdorozhki_1638.jpeg</td>\n",
       "      <td>begovye_dorozhki</td>\n",
       "      <td>begdorozhki</td>\n",
       "    </tr>\n",
       "  </tbody>\n",
       "</table>\n",
       "</div>"
      ],
      "text/plain": [
       "                                               title   price            cat_1  \\\n",
       "0                    Беговая дорожка UNIXFIT MX-990X  120890  Беговые дорожки   \n",
       "1  Беговая дорожка Proxima Ivetta HRC, Арт. PROT-219  139990  Беговые дорожки   \n",
       "2      Беговая дорожка UNIXFIT MX-990 AC (10,1\" TFT)  159890  Беговые дорожки   \n",
       "\n",
       "     cat_2                              cat_3  \\\n",
       "0  UNIXFIT                    UNIXFIT MX-990X   \n",
       "1  Proxima  Proxima Ivetta HRC, Арт. PROT-219   \n",
       "2  UNIXFIT      UNIXFIT MX-990 AC (10,1\" TFT)   \n",
       "\n",
       "                                      caracteristics  \\\n",
       "0  Тип электрическая  Уровень базовый Габариты (...   \n",
       "1  Тип электрическая  Уровень базовый Габариты (...   \n",
       "2  Тип электрическая  Уровень полупрофессиональны...   \n",
       "\n",
       "                                           img_ref            target  \\\n",
       "0  images/begovye_dorozhki/1_begdorozhki_1349.jpeg  begovye_dorozhki   \n",
       "1  images/begovye_dorozhki/2_begdorozhki_1463.jpeg  begovye_dorozhki   \n",
       "2  images/begovye_dorozhki/3_begdorozhki_1638.jpeg  begovye_dorozhki   \n",
       "\n",
       "        dealer  \n",
       "0  begdorozhki  \n",
       "1  begdorozhki  \n",
       "2  begdorozhki  "
      ]
     },
     "execution_count": 2,
     "metadata": {},
     "output_type": "execute_result"
    }
   ],
   "source": [
    "comparable_data = pd.read_csv(\"comparable_data.csv\")\n",
    "comparable_data.head(3)"
   ]
  },
  {
   "cell_type": "code",
   "execution_count": 3,
   "metadata": {},
   "outputs": [],
   "source": [
    "def prepare_data(path_to_df, info_used = 'title_only'):\n",
    "    df = pd.read_csv(path_to_df)\n",
    "    updated_df = pd.DataFrame()\n",
    "    for _, row in tqdm(df.iterrows(), total=df.shape[0]):\n",
    "        if info_used == 'title_only':\n",
    "            text = row[\"title\"]\n",
    "        elif info_used == 'title_cat':\n",
    "            text = (\n",
    "                str(row[\"title\"])\n",
    "                + \" \"\n",
    "                + str(row[\"cat_1\"])\n",
    "                + \" \"\n",
    "                + str(row[\"cat_2\"])\n",
    "                + \" \"\n",
    "                + str(row[\"cat_3\"])\n",
    "            )\n",
    "        else:\n",
    "            text = (\n",
    "                str(row[\"title\"])\n",
    "                + \" \"\n",
    "                + str(row[\"cat_1\"])\n",
    "                + \" \"\n",
    "                + str(row[\"cat_2\"])\n",
    "                + \" \"\n",
    "                + str(row[\"cat_3\"])\n",
    "                + \" \"\n",
    "                + str(row[\"caracteristics\"])\n",
    "            )\n",
    "\n",
    "        label = row[\"target\"]\n",
    "        new_row = {\"label_string\": label, \"text\": text}\n",
    "        updated_df = pd.concat([updated_df, pd.DataFrame([new_row])], ignore_index=True)\n",
    "    data_classes = list(set(updated_df[\"label_string\"].tolist()))\n",
    "    updated_df[\"label\"] = updated_df[\"label_string\"].apply(data_classes.index)\n",
    "    updated_df = updated_df.drop([\"label_string\"], axis=1)\n",
    "    updated_df = updated_df[[\"label\", \"text\"]]\n",
    "\n",
    "    return updated_df"
   ]
  },
  {
   "cell_type": "code",
   "execution_count": 4,
   "metadata": {},
   "outputs": [
    {
     "data": {
      "application/vnd.jupyter.widget-view+json": {
       "model_id": "894e5ed1fe8b45c0ad25c0209c1de7c2",
       "version_major": 2,
       "version_minor": 0
      },
      "text/plain": [
       "  0%|          | 0/13718 [00:00<?, ?it/s]"
      ]
     },
     "metadata": {},
     "output_type": "display_data"
    }
   ],
   "source": [
    "df = prepare_data('comparable_data.csv')"
   ]
  },
  {
   "cell_type": "code",
   "execution_count": 5,
   "metadata": {},
   "outputs": [
    {
     "data": {
      "text/html": [
       "<div>\n",
       "<style scoped>\n",
       "    .dataframe tbody tr th:only-of-type {\n",
       "        vertical-align: middle;\n",
       "    }\n",
       "\n",
       "    .dataframe tbody tr th {\n",
       "        vertical-align: top;\n",
       "    }\n",
       "\n",
       "    .dataframe thead th {\n",
       "        text-align: right;\n",
       "    }\n",
       "</style>\n",
       "<table border=\"1\" class=\"dataframe\">\n",
       "  <thead>\n",
       "    <tr style=\"text-align: right;\">\n",
       "      <th></th>\n",
       "      <th>label</th>\n",
       "      <th>text</th>\n",
       "    </tr>\n",
       "  </thead>\n",
       "  <tbody>\n",
       "    <tr>\n",
       "      <th>0</th>\n",
       "      <td>6</td>\n",
       "      <td>Беговая дорожка UNIXFIT MX-990X</td>\n",
       "    </tr>\n",
       "    <tr>\n",
       "      <th>1</th>\n",
       "      <td>6</td>\n",
       "      <td>Беговая дорожка Proxima Ivetta HRC, Арт. PROT-219</td>\n",
       "    </tr>\n",
       "    <tr>\n",
       "      <th>2</th>\n",
       "      <td>6</td>\n",
       "      <td>Беговая дорожка UNIXFIT MX-990 AC (10,1\" TFT)</td>\n",
       "    </tr>\n",
       "    <tr>\n",
       "      <th>3</th>\n",
       "      <td>6</td>\n",
       "      <td>Беговая дорожка Titanium Masters Physiotech TLF</td>\n",
       "    </tr>\n",
       "    <tr>\n",
       "      <th>4</th>\n",
       "      <td>6</td>\n",
       "      <td>Беговая дорожка Laufstein Commercial</td>\n",
       "    </tr>\n",
       "  </tbody>\n",
       "</table>\n",
       "</div>"
      ],
      "text/plain": [
       "   label                                               text\n",
       "0      6                    Беговая дорожка UNIXFIT MX-990X\n",
       "1      6  Беговая дорожка Proxima Ivetta HRC, Арт. PROT-219\n",
       "2      6      Беговая дорожка UNIXFIT MX-990 AC (10,1\" TFT)\n",
       "3      6    Беговая дорожка Titanium Masters Physiotech TLF\n",
       "4      6               Беговая дорожка Laufstein Commercial"
      ]
     },
     "execution_count": 5,
     "metadata": {},
     "output_type": "execute_result"
    }
   ],
   "source": [
    "df.head(5)"
   ]
  },
  {
   "cell_type": "code",
   "execution_count": 6,
   "metadata": {},
   "outputs": [],
   "source": [
    "def create_cos_sim_data(data_df, use_all_combos=False, combos_mult=1024):\n",
    "    labels_positive = {}\n",
    "    labels_negative = {}\n",
    "\n",
    "    # for each label create a set of same label images.\n",
    "    for i in list(data_df.label.unique()):\n",
    "        labels_positive[i] = data_df[data_df.label == i][\"text\"].to_numpy()\n",
    "    # for each label create a set of image of different label.\n",
    "    for i in list(data_df.label.unique()):\n",
    "        labels_negative[i] = data_df[data_df.label != i][\"text\"].to_numpy()\n",
    "    cosine_loss_dataset = pd.DataFrame()\n",
    "    for i, row in tqdm(data_df.iterrows(), total=len(data_df)):\n",
    "        # label and image of the index for each row in df\n",
    "        label = row[\"label\"]\n",
    "\n",
    "        if use_all_combos:\n",
    "            # probability of same label image == 0.5\n",
    "            if np.random.randint(0, 2) == 0:\n",
    "                for i in range(int(len(labels_positive[label]) / combos_mult)):\n",
    "                    second = labels_positive[label][i]\n",
    "                    dis = 1.0\n",
    "                    first = row[\"text\"]\n",
    "                    new_line = {'sentence1':first,\n",
    "                                'sentence2': second,\n",
    "                                'score': dis}\n",
    "                    cosine_loss_dataset = pd.concat([cosine_loss_dataset, pd.DataFrame([new_line])])\n",
    "            else:\n",
    "                for i in range(int(len(labels_positive[label]) / combos_mult)):\n",
    "                    second = labels_negative[label][\n",
    "                        np.random.randint(0, len(labels_negative[label]))\n",
    "                    ]\n",
    "                    first = row[\"text\"]\n",
    "                    dis = 0.0\n",
    "                    new_line = {\"sentence1\": first, \"sentence2\": second, \"score\": dis}\n",
    "                    cosine_loss_dataset = pd.concat(\n",
    "                        [cosine_loss_dataset, pd.DataFrame([new_line])]\n",
    "                    )\n",
    "        else:\n",
    "            if np.random.randint(0, 2) == 0:\n",
    "                second = labels_positive[label][\n",
    "                    np.random.randint(0, len(labels_positive[label]))\n",
    "                ]\n",
    "                dis = 1.0\n",
    "                first = row[\"text\"]\n",
    "                new_line = {'sentence1':first,\n",
    "                            'sentence2': second,\n",
    "                            'score': dis}\n",
    "                cosine_loss_dataset = pd.concat([cosine_loss_dataset, pd.DataFrame([new_line])])\n",
    "            else:\n",
    "                second = labels_negative[label][\n",
    "                    np.random.randint(0, len(labels_negative[label]))\n",
    "                ]\n",
    "                first = row[\"text\"]\n",
    "                dis = 0.0\n",
    "                new_line = {'sentence1':first,\n",
    "                            'sentence2': second,\n",
    "                            'score': dis}\n",
    "                cosine_loss_dataset = pd.concat([cosine_loss_dataset, pd.DataFrame([new_line])])\n",
    "    return cosine_loss_dataset"
   ]
  },
  {
   "cell_type": "code",
   "execution_count": 7,
   "metadata": {},
   "outputs": [
    {
     "data": {
      "application/vnd.jupyter.widget-view+json": {
       "model_id": "0f6baf3fb64c415f9b801508d7f374c8",
       "version_major": 2,
       "version_minor": 0
      },
      "text/plain": [
       "  0%|          | 0/13718 [00:00<?, ?it/s]"
      ]
     },
     "metadata": {},
     "output_type": "display_data"
    }
   ],
   "source": [
    "cosine_loss_dataset = create_cos_sim_data(df)"
   ]
  },
  {
   "cell_type": "code",
   "execution_count": 8,
   "metadata": {
    "execution": {
     "iopub.execute_input": "2024-08-30T19:29:43.578700Z",
     "iopub.status.busy": "2024-08-30T19:29:43.578400Z",
     "iopub.status.idle": "2024-08-30T19:29:51.314092Z",
     "shell.execute_reply": "2024-08-30T19:29:51.313301Z",
     "shell.execute_reply.started": "2024-08-30T19:29:43.578676Z"
    }
   },
   "outputs": [],
   "source": [
    "train, test = train_test_split(cosine_loss_dataset, test_size=0.002, random_state=2012)\n",
    "train_dataset = datasets.Dataset.from_pandas(train, preserve_index=False)\n",
    "\n",
    "test_dataset = datasets.Dataset.from_pandas(test, preserve_index=False)"
   ]
  },
  {
   "cell_type": "code",
   "execution_count": 9,
   "metadata": {
    "execution": {
     "iopub.execute_input": "2024-08-30T19:29:51.315274Z",
     "iopub.status.busy": "2024-08-30T19:29:51.314994Z",
     "iopub.status.idle": "2024-08-30T19:29:51.331062Z",
     "shell.execute_reply": "2024-08-30T19:29:51.329815Z",
     "shell.execute_reply.started": "2024-08-30T19:29:51.315248Z"
    }
   },
   "outputs": [
    {
     "data": {
      "text/plain": [
       "Dataset({\n",
       "    features: ['sentence1', 'sentence2', 'score'],\n",
       "    num_rows: 13690\n",
       "})"
      ]
     },
     "execution_count": 9,
     "metadata": {},
     "output_type": "execute_result"
    }
   ],
   "source": [
    "train_dataset"
   ]
  },
  {
   "cell_type": "code",
   "execution_count": 10,
   "metadata": {
    "execution": {
     "iopub.execute_input": "2024-08-30T19:29:51.332017Z",
     "iopub.status.busy": "2024-08-30T19:29:51.331728Z",
     "iopub.status.idle": "2024-08-30T19:29:51.349984Z",
     "shell.execute_reply": "2024-08-30T19:29:51.349325Z",
     "shell.execute_reply.started": "2024-08-30T19:29:51.331993Z"
    },
    "tags": []
   },
   "outputs": [],
   "source": [
    "model_name = \"cointegrated/rubert-tiny2\"\n",
    "max_seq_length = 512\n",
    "num_epochs = 10\n",
    "train_batch_size = 32"
   ]
  },
  {
   "cell_type": "markdown",
   "metadata": {},
   "source": [
    "- **Contrastive loss.** Expects as input two texts and a label of either 0 or 1. If the label == 1, then the distance between the two embeddings is reduced. If the label == 0, then the distance between the embeddings is increased.\n",
    "- **CoSENT (Cosine Sentence) loss.** It expects that each of the InputExamples consists of a pair of texts and a float valued label, representing the expected similarity score between the pair.\n",
    "- **CosineSimilarityLoss** expects that the InputExamples consists of two texts and a float label. It computes the vectors u = model(sentence_A) and v = model(sentence_B) and measures the cosine-similarity between the two. By default, it minimizes the following loss: ||input_label - cos_score_transformation(cosine_sim(u,v))||_2."
   ]
  },
  {
   "cell_type": "code",
   "execution_count": 11,
   "metadata": {
    "execution": {
     "iopub.execute_input": "2024-08-30T19:29:51.350946Z",
     "iopub.status.busy": "2024-08-30T19:29:51.350654Z",
     "iopub.status.idle": "2024-08-30T19:33:06.542375Z",
     "shell.execute_reply": "2024-08-30T19:33:06.541544Z",
     "shell.execute_reply.started": "2024-08-30T19:29:51.350924Z"
    },
    "tags": []
   },
   "outputs": [
    {
     "name": "stderr",
     "output_type": "stream",
     "text": [
      "c:\\Users\\Kate\\Desktop\\cv_project\\.venv\\Lib\\site-packages\\transformers\\tokenization_utils_base.py:1601: FutureWarning: `clean_up_tokenization_spaces` was not set. It will be set to `True` by default. This behavior will be depracted in transformers v4.45, and will be then set to `False` by default. For more details check this issue: https://github.com/huggingface/transformers/issues/31884\n",
      "  warnings.warn(\n"
     ]
    }
   ],
   "source": [
    "model = SentenceTransformer(model_name)\n",
    "# loss = losses.CoSENTLoss(model)\n",
    "loss = losses.ContrastiveLoss(model)\n",
    "#loss = losses.CosineSimilarityLoss(model)"
   ]
  },
  {
   "cell_type": "code",
   "execution_count": 12,
   "metadata": {
    "execution": {
     "iopub.execute_input": "2024-08-30T19:33:06.543606Z",
     "iopub.status.busy": "2024-08-30T19:33:06.543254Z",
     "iopub.status.idle": "2024-08-30T19:33:08.277463Z",
     "shell.execute_reply": "2024-08-30T19:33:08.276842Z",
     "shell.execute_reply.started": "2024-08-30T19:33:06.543587Z"
    }
   },
   "outputs": [
    {
     "name": "stderr",
     "output_type": "stream",
     "text": [
      "c:\\Users\\Kate\\Desktop\\cv_project\\.venv\\Lib\\site-packages\\transformers\\models\\bert\\modeling_bert.py:439: UserWarning: 1Torch was not compiled with flash attention. (Triggered internally at C:\\actions-runner\\_work\\pytorch\\pytorch\\builder\\windows\\pytorch\\aten\\src\\ATen\\native\\transformers\\cuda\\sdp_utils.cpp:555.)\n",
      "  attn_output = torch.nn.functional.scaled_dot_product_attention(\n"
     ]
    },
    {
     "data": {
      "text/plain": [
       "{'cv_cosine_accuracy': 0.6071428571428571,\n",
       " 'cv_cosine_accuracy_threshold': 0.7078050374984741,\n",
       " 'cv_cosine_f1': 0.6976744186046512,\n",
       " 'cv_cosine_f1_threshold': 0.5503430366516113,\n",
       " 'cv_cosine_precision': 0.5555555555555556,\n",
       " 'cv_cosine_recall': 0.9375,\n",
       " 'cv_cosine_ap': 0.6246544669099017,\n",
       " 'cv_dot_accuracy': 0.6071428571428571,\n",
       " 'cv_dot_accuracy_threshold': 0.7078051567077637,\n",
       " 'cv_dot_f1': 0.6976744186046512,\n",
       " 'cv_dot_f1_threshold': 0.5503429174423218,\n",
       " 'cv_dot_precision': 0.5555555555555556,\n",
       " 'cv_dot_recall': 0.9375,\n",
       " 'cv_dot_ap': 0.6246544669099017,\n",
       " 'cv_manhattan_accuracy': 0.6071428571428571,\n",
       " 'cv_manhattan_accuracy_threshold': 10.729952812194824,\n",
       " 'cv_manhattan_f1': 0.6976744186046512,\n",
       " 'cv_manhattan_f1_threshold': 13.22286605834961,\n",
       " 'cv_manhattan_precision': 0.5555555555555556,\n",
       " 'cv_manhattan_recall': 0.9375,\n",
       " 'cv_manhattan_ap': 0.6185276802875487,\n",
       " 'cv_euclidean_accuracy': 0.6071428571428571,\n",
       " 'cv_euclidean_accuracy_threshold': 0.7644381523132324,\n",
       " 'cv_euclidean_f1': 0.6976744186046512,\n",
       " 'cv_euclidean_f1_threshold': 0.9482909440994263,\n",
       " 'cv_euclidean_precision': 0.5555555555555556,\n",
       " 'cv_euclidean_recall': 0.9375,\n",
       " 'cv_euclidean_ap': 0.6246544669099017,\n",
       " 'cv_max_accuracy': 0.6071428571428571,\n",
       " 'cv_max_accuracy_threshold': 10.729952812194824,\n",
       " 'cv_max_f1': 0.6976744186046512,\n",
       " 'cv_max_f1_threshold': 13.22286605834961,\n",
       " 'cv_max_precision': 0.5555555555555556,\n",
       " 'cv_max_recall': 0.9375,\n",
       " 'cv_max_ap': 0.6246544669099017}"
      ]
     },
     "execution_count": 12,
     "metadata": {},
     "output_type": "execute_result"
    }
   ],
   "source": [
    "binary_acc_evaluator = BinaryClassificationEvaluator(\n",
    "    sentences1=test_dataset[\"sentence1\"],\n",
    "    sentences2=test_dataset[\"sentence2\"],\n",
    "    labels=test_dataset[\"score\"],\n",
    "    name=\"cv\",\n",
    ")\n",
    "results = binary_acc_evaluator(model)\n",
    "results"
   ]
  },
  {
   "cell_type": "code",
   "execution_count": 13,
   "metadata": {
    "execution": {
     "iopub.execute_input": "2024-08-30T19:33:08.278479Z",
     "iopub.status.busy": "2024-08-30T19:33:08.278214Z",
     "iopub.status.idle": "2024-08-30T19:33:08.286082Z",
     "shell.execute_reply": "2024-08-30T19:33:08.285535Z",
     "shell.execute_reply.started": "2024-08-30T19:33:08.278460Z"
    }
   },
   "outputs": [],
   "source": [
    "output_dir = 'tiny_sent_transformer'"
   ]
  },
  {
   "cell_type": "code",
   "execution_count": 14,
   "metadata": {},
   "outputs": [],
   "source": [
    "with open(\"config.json\", \"r\") as f:\n",
    "    json_config = json.load(f)\n",
    "TOKEN = json_config[\"token\"]"
   ]
  },
  {
   "cell_type": "code",
   "execution_count": 15,
   "metadata": {
    "execution": {
     "iopub.execute_input": "2024-08-30T19:33:08.314460Z",
     "iopub.status.busy": "2024-08-30T19:33:08.314208Z",
     "iopub.status.idle": "2024-08-30T19:33:11.054752Z",
     "shell.execute_reply": "2024-08-30T19:33:11.053754Z",
     "shell.execute_reply.started": "2024-08-30T19:33:08.314443Z"
    }
   },
   "outputs": [],
   "source": [
    "HfFolder.save_token(TOKEN)"
   ]
  },
  {
   "cell_type": "code",
   "execution_count": 16,
   "metadata": {
    "execution": {
     "iopub.execute_input": "2024-08-30T19:33:11.055863Z",
     "iopub.status.busy": "2024-08-30T19:33:11.055583Z",
     "iopub.status.idle": "2024-08-30T19:33:11.082731Z",
     "shell.execute_reply": "2024-08-30T19:33:11.082159Z",
     "shell.execute_reply.started": "2024-08-30T19:33:11.055844Z"
    },
    "tags": []
   },
   "outputs": [
    {
     "name": "stderr",
     "output_type": "stream",
     "text": [
      "c:\\Users\\Kate\\Desktop\\cv_project\\.venv\\Lib\\site-packages\\transformers\\training_args.py:1525: FutureWarning: `evaluation_strategy` is deprecated and will be removed in version 4.46 of 🤗 Transformers. Use `eval_strategy` instead\n",
      "  warnings.warn(\n"
     ]
    }
   ],
   "source": [
    "# 5. Define the training arguments\n",
    "args = SentenceTransformerTrainingArguments(\n",
    "    # Required parameter:\n",
    "    output_dir=output_dir,\n",
    "    # Optional training parameters:\n",
    "    num_train_epochs=num_epochs,\n",
    "    per_device_train_batch_size=train_batch_size,\n",
    "    per_device_eval_batch_size=train_batch_size,\n",
    "    warmup_ratio=0.1,\n",
    "    fp16=True,  # Set to False if you get an error that your GPU can't run on FP16\n",
    "    bf16=False,  # Set to True if you have a GPU that supports BF16\n",
    "    # Optional tracking/debugging parameters:\n",
    "    evaluation_strategy=\"epoch\",\n",
    "    save_strategy=\"no\",\n",
    "    hub_token=HfFolder.get_token(),\n",
    ")"
   ]
  },
  {
   "cell_type": "code",
   "execution_count": 17,
   "metadata": {
    "execution": {
     "iopub.execute_input": "2024-08-30T19:33:11.083953Z",
     "iopub.status.busy": "2024-08-30T19:33:11.083404Z",
     "iopub.status.idle": "2024-08-30T21:31:22.371143Z"
    },
    "tags": []
   },
   "outputs": [
    {
     "name": "stderr",
     "output_type": "stream",
     "text": [
      "c:\\Users\\Kate\\Desktop\\cv_project\\.venv\\Lib\\site-packages\\accelerate\\accelerator.py:494: FutureWarning: `torch.cuda.amp.GradScaler(args...)` is deprecated. Please use `torch.amp.GradScaler('cuda', args...)` instead.\n",
      "  self.scaler = torch.cuda.amp.GradScaler(**kwargs)\n",
      "\u001b[34m\u001b[1mwandb\u001b[0m: \u001b[33mWARNING\u001b[0m The `run_name` is currently set to the same value as `TrainingArguments.output_dir`. If this was not intended, please specify a different run name by setting the `TrainingArguments.run_name` parameter.\n",
      "Failed to detect the name of this notebook, you can set it manually with the WANDB_NOTEBOOK_NAME environment variable to enable code saving.\n",
      "\u001b[34m\u001b[1mwandb\u001b[0m: Currently logged in as: \u001b[33mkatya_shakhova\u001b[0m (\u001b[33mshakhova\u001b[0m). Use \u001b[1m`wandb login --relogin`\u001b[0m to force relogin\n"
     ]
    },
    {
     "data": {
      "text/html": [
       "Tracking run with wandb version 0.17.9"
      ],
      "text/plain": [
       "<IPython.core.display.HTML object>"
      ]
     },
     "metadata": {},
     "output_type": "display_data"
    },
    {
     "data": {
      "text/html": [
       "Run data is saved locally in <code>c:\\Users\\Kate\\Desktop\\cv_project\\wandb\\run-20240915_172257-w4utn5dd</code>"
      ],
      "text/plain": [
       "<IPython.core.display.HTML object>"
      ]
     },
     "metadata": {},
     "output_type": "display_data"
    },
    {
     "data": {
      "text/html": [
       "Syncing run <strong><a href='https://wandb.ai/shakhova/sentence-transformers/runs/w4utn5dd' target=\"_blank\">tiny_sent_transformer</a></strong> to <a href='https://wandb.ai/shakhova/sentence-transformers' target=\"_blank\">Weights & Biases</a> (<a href='https://wandb.me/run' target=\"_blank\">docs</a>)<br/>"
      ],
      "text/plain": [
       "<IPython.core.display.HTML object>"
      ]
     },
     "metadata": {},
     "output_type": "display_data"
    },
    {
     "data": {
      "text/html": [
       " View project at <a href='https://wandb.ai/shakhova/sentence-transformers' target=\"_blank\">https://wandb.ai/shakhova/sentence-transformers</a>"
      ],
      "text/plain": [
       "<IPython.core.display.HTML object>"
      ]
     },
     "metadata": {},
     "output_type": "display_data"
    },
    {
     "data": {
      "text/html": [
       " View run at <a href='https://wandb.ai/shakhova/sentence-transformers/runs/w4utn5dd' target=\"_blank\">https://wandb.ai/shakhova/sentence-transformers/runs/w4utn5dd</a>"
      ],
      "text/plain": [
       "<IPython.core.display.HTML object>"
      ]
     },
     "metadata": {},
     "output_type": "display_data"
    },
    {
     "data": {
      "application/vnd.jupyter.widget-view+json": {
       "model_id": "0fa87d0d55434f20baefe9d6fe7f9082",
       "version_major": 2,
       "version_minor": 0
      },
      "text/plain": [
       "  0%|          | 0/4280 [00:00<?, ?it/s]"
      ]
     },
     "metadata": {},
     "output_type": "display_data"
    },
    {
     "data": {
      "application/vnd.jupyter.widget-view+json": {
       "model_id": "c431b3304f304455bd4a729bb744f272",
       "version_major": 2,
       "version_minor": 0
      },
      "text/plain": [
       "  0%|          | 0/1 [00:00<?, ?it/s]"
      ]
     },
     "metadata": {},
     "output_type": "display_data"
    },
    {
     "name": "stdout",
     "output_type": "stream",
     "text": [
      "{'eval_loss': 0.012141643092036247, 'eval_cv_cosine_accuracy': 0.9285714285714286, 'eval_cv_cosine_accuracy_threshold': 0.8569946885108948, 'eval_cv_cosine_f1': 0.9411764705882353, 'eval_cv_cosine_f1_threshold': 0.8569946885108948, 'eval_cv_cosine_precision': 0.8888888888888888, 'eval_cv_cosine_recall': 1.0, 'eval_cv_cosine_ap': 0.9365436136575842, 'eval_cv_dot_accuracy': 0.9285714285714286, 'eval_cv_dot_accuracy_threshold': 0.8569947481155396, 'eval_cv_dot_f1': 0.9411764705882353, 'eval_cv_dot_f1_threshold': 0.8569947481155396, 'eval_cv_dot_precision': 0.8888888888888888, 'eval_cv_dot_recall': 1.0, 'eval_cv_dot_ap': 0.9365436136575842, 'eval_cv_manhattan_accuracy': 0.9285714285714286, 'eval_cv_manhattan_accuracy_threshold': 7.489104270935059, 'eval_cv_manhattan_f1': 0.9411764705882353, 'eval_cv_manhattan_f1_threshold': 7.489104270935059, 'eval_cv_manhattan_precision': 0.8888888888888888, 'eval_cv_manhattan_recall': 1.0, 'eval_cv_manhattan_ap': 0.9406644927784634, 'eval_cv_euclidean_accuracy': 0.9285714285714286, 'eval_cv_euclidean_accuracy_threshold': 0.5345937609672546, 'eval_cv_euclidean_f1': 0.9411764705882353, 'eval_cv_euclidean_f1_threshold': 0.5345937609672546, 'eval_cv_euclidean_precision': 0.8888888888888888, 'eval_cv_euclidean_recall': 1.0, 'eval_cv_euclidean_ap': 0.9365436136575842, 'eval_cv_max_accuracy': 0.9285714285714286, 'eval_cv_max_accuracy_threshold': 7.489104270935059, 'eval_cv_max_f1': 0.9411764705882353, 'eval_cv_max_f1_threshold': 7.489104270935059, 'eval_cv_max_precision': 0.8888888888888888, 'eval_cv_max_recall': 1.0, 'eval_cv_max_ap': 0.9406644927784634, 'eval_runtime': 0.026, 'eval_samples_per_second': 1076.636, 'eval_steps_per_second': 38.451, 'epoch': 1.0}\n",
      "{'loss': 0.0121, 'grad_norm': 0.04459988325834274, 'learning_rate': 4.9065420560747664e-05, 'epoch': 1.17}\n"
     ]
    },
    {
     "data": {
      "application/vnd.jupyter.widget-view+json": {
       "model_id": "e8bb243177c04e2f9296b9cfb4edd7d5",
       "version_major": 2,
       "version_minor": 0
      },
      "text/plain": [
       "  0%|          | 0/1 [00:00<?, ?it/s]"
      ]
     },
     "metadata": {},
     "output_type": "display_data"
    },
    {
     "name": "stdout",
     "output_type": "stream",
     "text": [
      "{'eval_loss': 0.01045686099678278, 'eval_cv_cosine_accuracy': 0.9285714285714286, 'eval_cv_cosine_accuracy_threshold': 0.8671985864639282, 'eval_cv_cosine_f1': 0.9411764705882353, 'eval_cv_cosine_f1_threshold': 0.8307956457138062, 'eval_cv_cosine_precision': 0.8888888888888888, 'eval_cv_cosine_recall': 1.0, 'eval_cv_cosine_ap': 0.9805183531746032, 'eval_cv_dot_accuracy': 0.9285714285714286, 'eval_cv_dot_accuracy_threshold': 0.8671985268592834, 'eval_cv_dot_f1': 0.9411764705882353, 'eval_cv_dot_f1_threshold': 0.8307956457138062, 'eval_cv_dot_precision': 0.8888888888888888, 'eval_cv_dot_recall': 1.0, 'eval_cv_dot_ap': 0.9805183531746032, 'eval_cv_manhattan_accuracy': 0.9285714285714286, 'eval_cv_manhattan_accuracy_threshold': 6.973616600036621, 'eval_cv_manhattan_f1': 0.9411764705882353, 'eval_cv_manhattan_f1_threshold': 8.109447479248047, 'eval_cv_manhattan_precision': 0.8888888888888888, 'eval_cv_manhattan_recall': 1.0, 'eval_cv_manhattan_ap': 0.9805183531746032, 'eval_cv_euclidean_accuracy': 0.9285714285714286, 'eval_cv_euclidean_accuracy_threshold': 0.5151596069335938, 'eval_cv_euclidean_f1': 0.9411764705882353, 'eval_cv_euclidean_f1_threshold': 0.5811609029769897, 'eval_cv_euclidean_precision': 0.8888888888888888, 'eval_cv_euclidean_recall': 1.0, 'eval_cv_euclidean_ap': 0.9805183531746032, 'eval_cv_max_accuracy': 0.9285714285714286, 'eval_cv_max_accuracy_threshold': 6.973616600036621, 'eval_cv_max_f1': 0.9411764705882353, 'eval_cv_max_f1_threshold': 8.109447479248047, 'eval_cv_max_precision': 0.8888888888888888, 'eval_cv_max_recall': 1.0, 'eval_cv_max_ap': 0.9805183531746032, 'eval_runtime': 0.025, 'eval_samples_per_second': 1119.633, 'eval_steps_per_second': 39.987, 'epoch': 2.0}\n",
      "{'loss': 0.0037, 'grad_norm': 0.06920165568590164, 'learning_rate': 4.257528556593977e-05, 'epoch': 2.34}\n"
     ]
    },
    {
     "data": {
      "application/vnd.jupyter.widget-view+json": {
       "model_id": "f4dd1540acd44c2282841b495f10b60a",
       "version_major": 2,
       "version_minor": 0
      },
      "text/plain": [
       "  0%|          | 0/1 [00:00<?, ?it/s]"
      ]
     },
     "metadata": {},
     "output_type": "display_data"
    },
    {
     "name": "stdout",
     "output_type": "stream",
     "text": [
      "{'eval_loss': 0.008501644246280193, 'eval_cv_cosine_accuracy': 0.9285714285714286, 'eval_cv_cosine_accuracy_threshold': 0.8695433139801025, 'eval_cv_cosine_f1': 0.9375, 'eval_cv_cosine_f1_threshold': 0.8695433139801025, 'eval_cv_cosine_precision': 0.9375, 'eval_cv_cosine_recall': 0.9375, 'eval_cv_cosine_ap': 0.9820586622807017, 'eval_cv_dot_accuracy': 0.9285714285714286, 'eval_cv_dot_accuracy_threshold': 0.8695434331893921, 'eval_cv_dot_f1': 0.9375, 'eval_cv_dot_f1_threshold': 0.8695434331893921, 'eval_cv_dot_precision': 0.9375, 'eval_cv_dot_recall': 0.9375, 'eval_cv_dot_ap': 0.9820586622807017, 'eval_cv_manhattan_accuracy': 0.9285714285714286, 'eval_cv_manhattan_accuracy_threshold': 6.930814743041992, 'eval_cv_manhattan_f1': 0.9375, 'eval_cv_manhattan_f1_threshold': 6.930814743041992, 'eval_cv_manhattan_precision': 0.9375, 'eval_cv_manhattan_recall': 0.9375, 'eval_cv_manhattan_ap': 0.9775943765664161, 'eval_cv_euclidean_accuracy': 0.9285714285714286, 'eval_cv_euclidean_accuracy_threshold': 0.4994989037513733, 'eval_cv_euclidean_f1': 0.9375, 'eval_cv_euclidean_f1_threshold': 0.4994989037513733, 'eval_cv_euclidean_precision': 0.9375, 'eval_cv_euclidean_recall': 0.9375, 'eval_cv_euclidean_ap': 0.9820586622807017, 'eval_cv_max_accuracy': 0.9285714285714286, 'eval_cv_max_accuracy_threshold': 6.930814743041992, 'eval_cv_max_f1': 0.9375, 'eval_cv_max_f1_threshold': 6.930814743041992, 'eval_cv_max_precision': 0.9375, 'eval_cv_max_recall': 0.9375, 'eval_cv_max_ap': 0.9820586622807017, 'eval_runtime': 0.029, 'eval_samples_per_second': 965.524, 'eval_steps_per_second': 34.483, 'epoch': 3.0}\n",
      "{'loss': 0.0028, 'grad_norm': 0.047859929502010345, 'learning_rate': 3.608515057113188e-05, 'epoch': 3.5}\n"
     ]
    },
    {
     "data": {
      "application/vnd.jupyter.widget-view+json": {
       "model_id": "dc41e26c7a644da28be67482f5d1eed1",
       "version_major": 2,
       "version_minor": 0
      },
      "text/plain": [
       "  0%|          | 0/1 [00:00<?, ?it/s]"
      ]
     },
     "metadata": {},
     "output_type": "display_data"
    },
    {
     "name": "stdout",
     "output_type": "stream",
     "text": [
      "{'eval_loss': 0.007320765405893326, 'eval_cv_cosine_accuracy': 0.9285714285714286, 'eval_cv_cosine_accuracy_threshold': 0.9186586141586304, 'eval_cv_cosine_f1': 0.9411764705882353, 'eval_cv_cosine_f1_threshold': 0.7524685859680176, 'eval_cv_cosine_precision': 0.8888888888888888, 'eval_cv_cosine_recall': 1.0, 'eval_cv_cosine_ap': 0.9891493055555556, 'eval_cv_dot_accuracy': 0.9285714285714286, 'eval_cv_dot_accuracy_threshold': 0.9186586141586304, 'eval_cv_dot_f1': 0.9411764705882353, 'eval_cv_dot_f1_threshold': 0.7524685859680176, 'eval_cv_dot_precision': 0.8888888888888888, 'eval_cv_dot_recall': 1.0, 'eval_cv_dot_ap': 0.9891493055555556, 'eval_cv_manhattan_accuracy': 0.9285714285714286, 'eval_cv_manhattan_accuracy_threshold': 5.53184700012207, 'eval_cv_manhattan_f1': 0.9411764705882353, 'eval_cv_manhattan_f1_threshold': 9.608419418334961, 'eval_cv_manhattan_precision': 0.8888888888888888, 'eval_cv_manhattan_recall': 1.0, 'eval_cv_manhattan_ap': 0.9891493055555556, 'eval_cv_euclidean_accuracy': 0.9285714285714286, 'eval_cv_euclidean_accuracy_threshold': 0.40311455726623535, 'eval_cv_euclidean_f1': 0.9411764705882353, 'eval_cv_euclidean_f1_threshold': 0.703339695930481, 'eval_cv_euclidean_precision': 0.8888888888888888, 'eval_cv_euclidean_recall': 1.0, 'eval_cv_euclidean_ap': 0.9891493055555556, 'eval_cv_max_accuracy': 0.9285714285714286, 'eval_cv_max_accuracy_threshold': 5.53184700012207, 'eval_cv_max_f1': 0.9411764705882353, 'eval_cv_max_f1_threshold': 9.608419418334961, 'eval_cv_max_precision': 0.8888888888888888, 'eval_cv_max_recall': 1.0, 'eval_cv_max_ap': 0.9891493055555556, 'eval_runtime': 0.025, 'eval_samples_per_second': 1119.91, 'eval_steps_per_second': 39.997, 'epoch': 4.0}\n",
      "{'loss': 0.0025, 'grad_norm': 0.03469478711485863, 'learning_rate': 2.9595015576323987e-05, 'epoch': 4.67}\n"
     ]
    },
    {
     "data": {
      "application/vnd.jupyter.widget-view+json": {
       "model_id": "52dbe7d947344982997cb886f63eceb2",
       "version_major": 2,
       "version_minor": 0
      },
      "text/plain": [
       "  0%|          | 0/1 [00:00<?, ?it/s]"
      ]
     },
     "metadata": {},
     "output_type": "display_data"
    },
    {
     "name": "stdout",
     "output_type": "stream",
     "text": [
      "{'eval_loss': 0.006469670683145523, 'eval_cv_cosine_accuracy': 0.9642857142857143, 'eval_cv_cosine_accuracy_threshold': 0.7788258790969849, 'eval_cv_cosine_f1': 0.9696969696969697, 'eval_cv_cosine_f1_threshold': 0.7788258790969849, 'eval_cv_cosine_precision': 0.9411764705882353, 'eval_cv_cosine_recall': 1.0, 'eval_cv_cosine_ap': 0.9924172794117647, 'eval_cv_dot_accuracy': 0.9642857142857143, 'eval_cv_dot_accuracy_threshold': 0.7788258790969849, 'eval_cv_dot_f1': 0.9696969696969697, 'eval_cv_dot_f1_threshold': 0.7788258790969849, 'eval_cv_dot_precision': 0.9411764705882353, 'eval_cv_dot_recall': 1.0, 'eval_cv_dot_ap': 0.9924172794117647, 'eval_cv_manhattan_accuracy': 0.9642857142857143, 'eval_cv_manhattan_accuracy_threshold': 9.076764106750488, 'eval_cv_manhattan_f1': 0.9696969696969697, 'eval_cv_manhattan_f1_threshold': 9.076764106750488, 'eval_cv_manhattan_precision': 0.9411764705882353, 'eval_cv_manhattan_recall': 1.0, 'eval_cv_manhattan_ap': 0.9882506127450981, 'eval_cv_euclidean_accuracy': 0.9642857142857143, 'eval_cv_euclidean_accuracy_threshold': 0.6649026870727539, 'eval_cv_euclidean_f1': 0.9696969696969697, 'eval_cv_euclidean_f1_threshold': 0.6649026870727539, 'eval_cv_euclidean_precision': 0.9411764705882353, 'eval_cv_euclidean_recall': 1.0, 'eval_cv_euclidean_ap': 0.9924172794117647, 'eval_cv_max_accuracy': 0.9642857142857143, 'eval_cv_max_accuracy_threshold': 9.076764106750488, 'eval_cv_max_f1': 0.9696969696969697, 'eval_cv_max_f1_threshold': 9.076764106750488, 'eval_cv_max_precision': 0.9411764705882353, 'eval_cv_max_recall': 1.0, 'eval_cv_max_ap': 0.9924172794117647, 'eval_runtime': 0.0272, 'eval_samples_per_second': 1029.647, 'eval_steps_per_second': 36.773, 'epoch': 5.0}\n",
      "{'loss': 0.0021, 'grad_norm': 0.025777142494916916, 'learning_rate': 2.3104880581516096e-05, 'epoch': 5.84}\n"
     ]
    },
    {
     "data": {
      "application/vnd.jupyter.widget-view+json": {
       "model_id": "2791ae805022451f85798f75406aee76",
       "version_major": 2,
       "version_minor": 0
      },
      "text/plain": [
       "  0%|          | 0/1 [00:00<?, ?it/s]"
      ]
     },
     "metadata": {},
     "output_type": "display_data"
    },
    {
     "name": "stdout",
     "output_type": "stream",
     "text": [
      "{'eval_loss': 0.005286471452564001, 'eval_cv_cosine_accuracy': 0.9642857142857143, 'eval_cv_cosine_accuracy_threshold': 0.8943095207214355, 'eval_cv_cosine_f1': 0.9696969696969697, 'eval_cv_cosine_f1_threshold': 0.7802018523216248, 'eval_cv_cosine_precision': 0.9411764705882353, 'eval_cv_cosine_recall': 1.0, 'eval_cv_cosine_ap': 0.9963235294117647, 'eval_cv_dot_accuracy': 0.9642857142857143, 'eval_cv_dot_accuracy_threshold': 0.894309401512146, 'eval_cv_dot_f1': 0.9696969696969697, 'eval_cv_dot_f1_threshold': 0.7802018523216248, 'eval_cv_dot_precision': 0.9411764705882353, 'eval_cv_dot_recall': 1.0, 'eval_cv_dot_ap': 0.9963235294117647, 'eval_cv_manhattan_accuracy': 0.9642857142857143, 'eval_cv_manhattan_accuracy_threshold': 6.236815452575684, 'eval_cv_manhattan_f1': 0.9696969696969697, 'eval_cv_manhattan_f1_threshold': 9.04854679107666, 'eval_cv_manhattan_precision': 0.9411764705882353, 'eval_cv_manhattan_recall': 1.0, 'eval_cv_manhattan_ap': 0.9963235294117647, 'eval_cv_euclidean_accuracy': 0.9642857142857143, 'eval_cv_euclidean_accuracy_threshold': 0.45667707920074463, 'eval_cv_euclidean_f1': 0.9696969696969697, 'eval_cv_euclidean_f1_threshold': 0.6629018783569336, 'eval_cv_euclidean_precision': 0.9411764705882353, 'eval_cv_euclidean_recall': 1.0, 'eval_cv_euclidean_ap': 0.9963235294117647, 'eval_cv_max_accuracy': 0.9642857142857143, 'eval_cv_max_accuracy_threshold': 6.236815452575684, 'eval_cv_max_f1': 0.9696969696969697, 'eval_cv_max_f1_threshold': 9.04854679107666, 'eval_cv_max_precision': 0.9411764705882353, 'eval_cv_max_recall': 1.0, 'eval_cv_max_ap': 0.9963235294117647, 'eval_runtime': 0.0255, 'eval_samples_per_second': 1096.397, 'eval_steps_per_second': 39.157, 'epoch': 6.0}\n"
     ]
    },
    {
     "data": {
      "application/vnd.jupyter.widget-view+json": {
       "model_id": "a81e39bd9bdc44d6a9c6e15430593b01",
       "version_major": 2,
       "version_minor": 0
      },
      "text/plain": [
       "  0%|          | 0/1 [00:00<?, ?it/s]"
      ]
     },
     "metadata": {},
     "output_type": "display_data"
    },
    {
     "name": "stdout",
     "output_type": "stream",
     "text": [
      "{'eval_loss': 0.005540285725146532, 'eval_cv_cosine_accuracy': 0.9642857142857143, 'eval_cv_cosine_accuracy_threshold': 0.8650959730148315, 'eval_cv_cosine_f1': 0.9696969696969697, 'eval_cv_cosine_f1_threshold': 0.8056637644767761, 'eval_cv_cosine_precision': 0.9411764705882353, 'eval_cv_cosine_recall': 1.0, 'eval_cv_cosine_ap': 0.9963235294117647, 'eval_cv_dot_accuracy': 0.9642857142857143, 'eval_cv_dot_accuracy_threshold': 0.8650959730148315, 'eval_cv_dot_f1': 0.9696969696969697, 'eval_cv_dot_f1_threshold': 0.8056638240814209, 'eval_cv_dot_precision': 0.9411764705882353, 'eval_cv_dot_recall': 1.0, 'eval_cv_dot_ap': 0.9963235294117647, 'eval_cv_manhattan_accuracy': 0.9642857142857143, 'eval_cv_manhattan_accuracy_threshold': 7.103158950805664, 'eval_cv_manhattan_f1': 0.9696969696969697, 'eval_cv_manhattan_f1_threshold': 8.540844917297363, 'eval_cv_manhattan_precision': 0.9411764705882353, 'eval_cv_manhattan_recall': 1.0, 'eval_cv_manhattan_ap': 0.9963235294117647, 'eval_cv_euclidean_accuracy': 0.9642857142857143, 'eval_cv_euclidean_accuracy_threshold': 0.5179494619369507, 'eval_cv_euclidean_f1': 0.9696969696969697, 'eval_cv_euclidean_f1_threshold': 0.6234050989151001, 'eval_cv_euclidean_precision': 0.9411764705882353, 'eval_cv_euclidean_recall': 1.0, 'eval_cv_euclidean_ap': 0.9963235294117647, 'eval_cv_max_accuracy': 0.9642857142857143, 'eval_cv_max_accuracy_threshold': 7.103158950805664, 'eval_cv_max_f1': 0.9696969696969697, 'eval_cv_max_f1_threshold': 8.540844917297363, 'eval_cv_max_precision': 0.9411764705882353, 'eval_cv_max_recall': 1.0, 'eval_cv_max_ap': 0.9963235294117647, 'eval_runtime': 0.0236, 'eval_samples_per_second': 1186.843, 'eval_steps_per_second': 42.387, 'epoch': 7.0}\n",
      "{'loss': 0.0018, 'grad_norm': 0.055316369980573654, 'learning_rate': 1.6614745586708205e-05, 'epoch': 7.01}\n"
     ]
    },
    {
     "data": {
      "application/vnd.jupyter.widget-view+json": {
       "model_id": "80854dae66cb464fba291a4aa7ce373a",
       "version_major": 2,
       "version_minor": 0
      },
      "text/plain": [
       "  0%|          | 0/1 [00:00<?, ?it/s]"
      ]
     },
     "metadata": {},
     "output_type": "display_data"
    },
    {
     "name": "stdout",
     "output_type": "stream",
     "text": [
      "{'eval_loss': 0.0041037509217858315, 'eval_cv_cosine_accuracy': 1.0, 'eval_cv_cosine_accuracy_threshold': 0.7808363437652588, 'eval_cv_cosine_f1': 1.0, 'eval_cv_cosine_f1_threshold': 0.7808363437652588, 'eval_cv_cosine_precision': 1.0, 'eval_cv_cosine_recall': 1.0, 'eval_cv_cosine_ap': 1.0, 'eval_cv_dot_accuracy': 1.0, 'eval_cv_dot_accuracy_threshold': 0.7808363437652588, 'eval_cv_dot_f1': 1.0, 'eval_cv_dot_f1_threshold': 0.7808363437652588, 'eval_cv_dot_precision': 1.0, 'eval_cv_dot_recall': 1.0, 'eval_cv_dot_ap': 1.0, 'eval_cv_manhattan_accuracy': 1.0, 'eval_cv_manhattan_accuracy_threshold': 9.01974868774414, 'eval_cv_manhattan_f1': 1.0, 'eval_cv_manhattan_f1_threshold': 9.01974868774414, 'eval_cv_manhattan_precision': 1.0, 'eval_cv_manhattan_recall': 1.0, 'eval_cv_manhattan_ap': 1.0, 'eval_cv_euclidean_accuracy': 1.0, 'eval_cv_euclidean_accuracy_threshold': 0.6620033979415894, 'eval_cv_euclidean_f1': 1.0, 'eval_cv_euclidean_f1_threshold': 0.6620033979415894, 'eval_cv_euclidean_precision': 1.0, 'eval_cv_euclidean_recall': 1.0, 'eval_cv_euclidean_ap': 1.0, 'eval_cv_max_accuracy': 1.0, 'eval_cv_max_accuracy_threshold': 9.01974868774414, 'eval_cv_max_f1': 1.0, 'eval_cv_max_f1_threshold': 9.01974868774414, 'eval_cv_max_precision': 1.0, 'eval_cv_max_recall': 1.0, 'eval_cv_max_ap': 1.0, 'eval_runtime': 0.0245, 'eval_samples_per_second': 1142.584, 'eval_steps_per_second': 40.807, 'epoch': 8.0}\n",
      "{'loss': 0.0015, 'grad_norm': 0.046996474266052246, 'learning_rate': 1.0124610591900312e-05, 'epoch': 8.18}\n"
     ]
    },
    {
     "data": {
      "application/vnd.jupyter.widget-view+json": {
       "model_id": "cadeac3f29ae4c53aebc7d35af579dea",
       "version_major": 2,
       "version_minor": 0
      },
      "text/plain": [
       "  0%|          | 0/1 [00:00<?, ?it/s]"
      ]
     },
     "metadata": {},
     "output_type": "display_data"
    },
    {
     "name": "stdout",
     "output_type": "stream",
     "text": [
      "{'eval_loss': 0.003982707858085632, 'eval_cv_cosine_accuracy': 0.9642857142857143, 'eval_cv_cosine_accuracy_threshold': 0.8336308598518372, 'eval_cv_cosine_f1': 0.9696969696969697, 'eval_cv_cosine_f1_threshold': 0.7609013915061951, 'eval_cv_cosine_precision': 0.9411764705882353, 'eval_cv_cosine_recall': 1.0, 'eval_cv_cosine_ap': 0.9963235294117647, 'eval_cv_dot_accuracy': 0.9642857142857143, 'eval_cv_dot_accuracy_threshold': 0.8336309194564819, 'eval_cv_dot_f1': 0.9696969696969697, 'eval_cv_dot_f1_threshold': 0.7609014511108398, 'eval_cv_dot_precision': 0.9411764705882353, 'eval_cv_dot_recall': 1.0, 'eval_cv_dot_ap': 0.9963235294117647, 'eval_cv_manhattan_accuracy': 1.0, 'eval_cv_manhattan_accuracy_threshold': 9.115335464477539, 'eval_cv_manhattan_f1': 1.0, 'eval_cv_manhattan_f1_threshold': 9.115335464477539, 'eval_cv_manhattan_precision': 1.0, 'eval_cv_manhattan_recall': 1.0, 'eval_cv_manhattan_ap': 1.0, 'eval_cv_euclidean_accuracy': 0.9642857142857143, 'eval_cv_euclidean_accuracy_threshold': 0.5673558712005615, 'eval_cv_euclidean_f1': 0.9696969696969697, 'eval_cv_euclidean_f1_threshold': 0.69134521484375, 'eval_cv_euclidean_precision': 0.9411764705882353, 'eval_cv_euclidean_recall': 1.0, 'eval_cv_euclidean_ap': 0.9963235294117647, 'eval_cv_max_accuracy': 1.0, 'eval_cv_max_accuracy_threshold': 9.115335464477539, 'eval_cv_max_f1': 1.0, 'eval_cv_max_f1_threshold': 9.115335464477539, 'eval_cv_max_precision': 1.0, 'eval_cv_max_recall': 1.0, 'eval_cv_max_ap': 1.0, 'eval_runtime': 0.022, 'eval_samples_per_second': 1272.723, 'eval_steps_per_second': 45.454, 'epoch': 9.0}\n",
      "{'loss': 0.0014, 'grad_norm': 0.05874865874648094, 'learning_rate': 3.6344755970924198e-06, 'epoch': 9.35}\n"
     ]
    },
    {
     "data": {
      "application/vnd.jupyter.widget-view+json": {
       "model_id": "a56939483057449b9c423c84de5f843f",
       "version_major": 2,
       "version_minor": 0
      },
      "text/plain": [
       "  0%|          | 0/1 [00:00<?, ?it/s]"
      ]
     },
     "metadata": {},
     "output_type": "display_data"
    },
    {
     "name": "stdout",
     "output_type": "stream",
     "text": [
      "{'eval_loss': 0.003640834940597415, 'eval_cv_cosine_accuracy': 1.0, 'eval_cv_cosine_accuracy_threshold': 0.7653387784957886, 'eval_cv_cosine_f1': 1.0, 'eval_cv_cosine_f1_threshold': 0.7653387784957886, 'eval_cv_cosine_precision': 1.0, 'eval_cv_cosine_recall': 1.0, 'eval_cv_cosine_ap': 1.0, 'eval_cv_dot_accuracy': 1.0, 'eval_cv_dot_accuracy_threshold': 0.7653387784957886, 'eval_cv_dot_f1': 1.0, 'eval_cv_dot_f1_threshold': 0.7653387784957886, 'eval_cv_dot_precision': 1.0, 'eval_cv_dot_recall': 1.0, 'eval_cv_dot_ap': 1.0, 'eval_cv_manhattan_accuracy': 1.0, 'eval_cv_manhattan_accuracy_threshold': 9.330949783325195, 'eval_cv_manhattan_f1': 1.0, 'eval_cv_manhattan_f1_threshold': 9.330949783325195, 'eval_cv_manhattan_precision': 1.0, 'eval_cv_manhattan_recall': 1.0, 'eval_cv_manhattan_ap': 1.0, 'eval_cv_euclidean_accuracy': 1.0, 'eval_cv_euclidean_accuracy_threshold': 0.6849288940429688, 'eval_cv_euclidean_f1': 1.0, 'eval_cv_euclidean_f1_threshold': 0.6849288940429688, 'eval_cv_euclidean_precision': 1.0, 'eval_cv_euclidean_recall': 1.0, 'eval_cv_euclidean_ap': 1.0, 'eval_cv_max_accuracy': 1.0, 'eval_cv_max_accuracy_threshold': 9.330949783325195, 'eval_cv_max_f1': 1.0, 'eval_cv_max_f1_threshold': 9.330949783325195, 'eval_cv_max_precision': 1.0, 'eval_cv_max_recall': 1.0, 'eval_cv_max_ap': 1.0, 'eval_runtime': 0.025, 'eval_samples_per_second': 1120.006, 'eval_steps_per_second': 40.0, 'epoch': 10.0}\n",
      "{'train_runtime': 107.0996, 'train_samples_per_second': 1278.249, 'train_steps_per_second': 39.963, 'train_loss': 0.0033133900332673687, 'epoch': 10.0}\n"
     ]
    },
    {
     "data": {
      "text/plain": [
       "TrainOutput(global_step=4280, training_loss=0.0033133900332673687, metrics={'train_runtime': 107.0996, 'train_samples_per_second': 1278.249, 'train_steps_per_second': 39.963, 'total_flos': 0.0, 'train_loss': 0.0033133900332673687, 'epoch': 10.0})"
      ]
     },
     "execution_count": 17,
     "metadata": {},
     "output_type": "execute_result"
    }
   ],
   "source": [
    "# 6. Create the trainer & start training\n",
    "trainer = SentenceTransformerTrainer(\n",
    "    model=model,\n",
    "    args=args,\n",
    "    train_dataset=train_dataset,\n",
    "    eval_dataset=test_dataset,\n",
    "    loss=loss,\n",
    "    evaluator=binary_acc_evaluator,\n",
    ")\n",
    "trainer.train()"
   ]
  },
  {
   "cell_type": "code",
   "execution_count": 18,
   "metadata": {
    "execution": {
     "iopub.execute_input": "2024-08-30T21:36:46.838928Z",
     "iopub.status.busy": "2024-08-30T21:36:46.838587Z",
     "iopub.status.idle": "2024-08-30T21:36:47.004813Z",
     "shell.execute_reply": "2024-08-30T21:36:47.004140Z",
     "shell.execute_reply.started": "2024-08-30T21:36:46.838905Z"
    },
    "tags": []
   },
   "outputs": [
    {
     "data": {
      "application/vnd.jupyter.widget-view+json": {
       "model_id": "e40e42d782bf4fd7bd826088f601615a",
       "version_major": 2,
       "version_minor": 0
      },
      "text/plain": [
       "Computing widget examples:   0%|          | 0/1 [00:00<?, ?example/s]"
      ]
     },
     "metadata": {},
     "output_type": "display_data"
    }
   ],
   "source": [
    "trainer.create_model_card()"
   ]
  },
  {
   "cell_type": "code",
   "execution_count": 19,
   "metadata": {
    "execution": {
     "iopub.execute_input": "2024-08-30T21:36:51.757186Z",
     "iopub.status.busy": "2024-08-30T21:36:51.756761Z",
     "iopub.status.idle": "2024-08-30T21:37:05.089964Z",
     "shell.execute_reply": "2024-08-30T21:37:05.089256Z",
     "shell.execute_reply.started": "2024-08-30T21:36:51.757157Z"
    },
    "tags": []
   },
   "outputs": [
    {
     "data": {
      "application/vnd.jupyter.widget-view+json": {
       "model_id": "4eb2226eb5424883bdc959bb06fbdc73",
       "version_major": 2,
       "version_minor": 0
      },
      "text/plain": [
       "Upload 2 LFS files:   0%|          | 0/2 [00:00<?, ?it/s]"
      ]
     },
     "metadata": {},
     "output_type": "display_data"
    },
    {
     "data": {
      "application/vnd.jupyter.widget-view+json": {
       "model_id": "4cb4d8847c544f0c8647c32c69e09d08",
       "version_major": 2,
       "version_minor": 0
      },
      "text/plain": [
       "model.safetensors:   0%|          | 0.00/117M [00:00<?, ?B/s]"
      ]
     },
     "metadata": {},
     "output_type": "display_data"
    },
    {
     "data": {
      "application/vnd.jupyter.widget-view+json": {
       "model_id": "20273c2b3f7c4323b5c169bd927b5c15",
       "version_major": 2,
       "version_minor": 0
      },
      "text/plain": [
       "training_args.bin:   0%|          | 0.00/5.50k [00:00<?, ?B/s]"
      ]
     },
     "metadata": {},
     "output_type": "display_data"
    },
    {
     "data": {
      "text/plain": [
       "CommitInfo(commit_url='https://huggingface.co/Shakhovak/tiny_sent_transformer/commit/92c1369f00979ecc144dced4b1788e551ac7e3df', commit_message='End of training', commit_description='', oid='92c1369f00979ecc144dced4b1788e551ac7e3df', pr_url=None, pr_revision=None, pr_num=None)"
      ]
     },
     "execution_count": 19,
     "metadata": {},
     "output_type": "execute_result"
    }
   ],
   "source": [
    "trainer.push_to_hub()"
   ]
  },
  {
   "cell_type": "code",
   "execution_count": 20,
   "metadata": {
    "execution": {
     "iopub.execute_input": "2024-08-30T21:37:13.525638Z",
     "iopub.status.busy": "2024-08-30T21:37:13.525220Z",
     "iopub.status.idle": "2024-08-30T21:37:14.367775Z",
     "shell.execute_reply": "2024-08-30T21:37:14.367102Z",
     "shell.execute_reply.started": "2024-08-30T21:37:13.525615Z"
    },
    "tags": []
   },
   "outputs": [],
   "source": [
    "model.save_pretrained(output_dir)"
   ]
  }
 ],
 "metadata": {
  "kernelspec": {
   "display_name": "DataSphere Kernel",
   "language": "python",
   "name": "python3"
  },
  "language_info": {
   "codemirror_mode": {
    "name": "ipython",
    "version": 3
   },
   "file_extension": ".py",
   "mimetype": "text/x-python",
   "name": "python",
   "nbconvert_exporter": "python",
   "pygments_lexer": "ipython3",
   "version": "3.11.8"
  }
 },
 "nbformat": 4,
 "nbformat_minor": 4
}
