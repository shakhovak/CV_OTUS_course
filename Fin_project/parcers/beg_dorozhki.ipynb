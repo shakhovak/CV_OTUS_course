{
 "cells": [
  {
   "cell_type": "code",
   "execution_count": 1,
   "id": "418a623e",
   "metadata": {},
   "outputs": [],
   "source": [
    "import pandas as pd\n",
    "import requests\n",
    "from bs4 import BeautifulSoup\n",
    "import fake_useragent\n",
    "import re\n",
    "import warnings\n",
    "warnings.filterwarnings(\"ignore\")\n",
    "\n",
    "ua = fake_useragent.UserAgent()"
   ]
  },
  {
   "cell_type": "code",
   "execution_count": 2,
   "id": "b8b989ac",
   "metadata": {},
   "outputs": [],
   "source": [
    "def get_url(tot_pages):\n",
    "    for page in range(51,tot_pages+1, 51):\n",
    "        if page % log_frequency == 0:\n",
    "            print(f'Log: working over page {page}...')       \n",
    "        \n",
    "        url_main = f'https://beg-dorozhki.ru/category/offset{page}'\n",
    "        response = requests.get(url_main, headers = {'user-agent': ua.random}, verify=False)\n",
    "        soup = BeautifulSoup(response.content, 'lxml')\n",
    "        data = soup.find_all(class_ = 'ui-link')\n",
    "        for item in data:\n",
    "            if bool(re.search(pattern = re.escape('/product/'), string = item['href'])):\n",
    "                item_url = 'https://beg-dorozhki.ru' + item['href']\n",
    "                yield item_url"
   ]
  },
  {
   "cell_type": "code",
   "execution_count": 3,
   "id": "09e58f49",
   "metadata": {},
   "outputs": [],
   "source": [
    "def get_item(category, tot_pages):\n",
    "    count = 0\n",
    "    for url_item in get_url(tot_pages):\n",
    "        count += 1\n",
    "        response = requests.get(url_item, headers = {'user-agent': ua.random}, verify=False)\n",
    "        soup = BeautifulSoup(response.content, 'lxml')\n",
    "\n",
    "        try:\n",
    "            title = soup.find('h1').text\n",
    "            title = title.replace('\\r', '').replace('\\t', '').replace('\\n', '').strip()\n",
    "        except:\n",
    "            title = ''\n",
    "\n",
    "        try:\n",
    "            article = soup.find(class_ = 'b-goods__article').text\n",
    "            article = article.replace(' ', '').replace('\\n', '')\n",
    "            article = article.replace('Артикул:', '').strip()\n",
    "        except:\n",
    "            article = ''\n",
    "\n",
    "        try:\n",
    "            image = soup.find(class_ = 'img-scale', src = True)\n",
    "            url = 'https://beg-dorozhki.ru' + image['src']\n",
    "            image_ref = f\"images/{category}/{count}_begdorozhki_{article}.jpeg\"\n",
    "            with open(f'images/{category}/{count}_begdorozhki_{article}.jpeg', 'wb') as f:\n",
    "                r = requests.get(url)\n",
    "                f.write(r.content)     \n",
    "\n",
    "        except:\n",
    "            print(f'Log: no image for {article} found...')\n",
    "            url = ''\n",
    "            image_ref = ''\n",
    "\n",
    "        try:\n",
    "            char = soup.find_all(class_ = 'b-goods-specif__item param')\n",
    "            char_string = ''\n",
    "            for ch in char:\n",
    "                children = ch.children\n",
    "                for child in children:\n",
    "                    char_string += child.text\n",
    "                    char_string += ' '\n",
    "            chars = char_string.strip()\n",
    "        except:\n",
    "            chars = ''\n",
    "\n",
    "        try:\n",
    "            desc = soup.find(class_ = 'b-goods-info')\n",
    "            desc = desc.text.replace('\\n', ' ').strip()\n",
    "        except:\n",
    "            desc = ''\n",
    "\n",
    "        try:\n",
    "            price = soup.find(class_ = 'b-goods-price__new').text\n",
    "            price = price.replace(' ', '').replace('руб.', '')\n",
    "        except:\n",
    "            price =''\n",
    "\n",
    "        try:\n",
    "            cat = soup.find(class_ = 'breadcrumb').text\n",
    "            cat_lst = []\n",
    "            for i in cat.split('\\n'):\n",
    "                if i != '':\n",
    "                    cat_lst.append(i)\n",
    "        except:\n",
    "            cat_lst = []\n",
    "        try:\n",
    "            cat_1 = cat_lst[0].strip()\n",
    "        except:\n",
    "            cat_1 = ''\n",
    "        try:\n",
    "            cat_2 = cat_lst[1].strip()\n",
    "        except:\n",
    "            cat_2 = ''\n",
    "        try:\n",
    "            cat_3 = cat_lst[2].strip()\n",
    "        except:\n",
    "            cat_3 = ''\n",
    "\n",
    "        yield  title, article, price, cat_1, cat_2, cat_3, url, desc, chars, image_ref"
   ]
  },
  {
   "cell_type": "code",
   "execution_count": 4,
   "id": "2e632506",
   "metadata": {
    "scrolled": false
   },
   "outputs": [],
   "source": [
    "df_columns = ['title', 'article','price', 'cat_1', 'cat_2', 'cat_3','url', \n",
    "              'description', 'caracteristics', 'img_ref']\n",
    "\n",
    "df = pd.DataFrame(columns = df_columns)\n",
    "save_frequency = 100\n",
    "log_frequency = 300"
   ]
  },
  {
   "cell_type": "code",
   "execution_count": 5,
   "id": "80182589",
   "metadata": {},
   "outputs": [],
   "source": [
    "import time\n",
    "\n",
    "def to_csv(category, tot_pages):\n",
    "    counter = 0  \n",
    "\n",
    "    for item in get_item(category, tot_pages):\n",
    "            data = []\n",
    "            for i in range(len(df_columns)):\n",
    "                data.append(item[i])\n",
    "            df.loc[len(df.index)] = data\n",
    "            time.sleep(0.05)\n",
    "\n",
    "            counter += 1\n",
    "            if counter % save_frequency == 0:\n",
    "                df.to_csv(f'{category}beg_dorozh.csv')\n",
    "                print(f'{counter} items saved in csv..')\n",
    "    df.to_csv(f'{category}beg_dorozh.csv')\n",
    "\n",
    "    print(f'\\nTotal items saved: {counter}')  "
   ]
  },
  {
   "cell_type": "code",
   "execution_count": 6,
   "id": "902657d3",
   "metadata": {},
   "outputs": [
    {
     "name": "stdout",
     "output_type": "stream",
     "text": [
      "100 items saved in csv..\n",
      "200 items saved in csv..\n",
      "300 items saved in csv..\n",
      "400 items saved in csv..\n",
      "500 items saved in csv..\n",
      "600 items saved in csv..\n",
      "\n",
      "Total items saved: 663\n"
     ]
    }
   ],
   "source": [
    "to_csv('begovye_dorozhki', 663)"
   ]
  }
 ],
 "metadata": {
  "kernelspec": {
   "display_name": "Python 3 (ipykernel)",
   "language": "python",
   "name": "python3"
  },
  "language_info": {
   "codemirror_mode": {
    "name": "ipython",
    "version": 3
   },
   "file_extension": ".py",
   "mimetype": "text/x-python",
   "name": "python",
   "nbconvert_exporter": "python",
   "pygments_lexer": "ipython3",
   "version": "3.11.8"
  }
 },
 "nbformat": 4,
 "nbformat_minor": 5
}
