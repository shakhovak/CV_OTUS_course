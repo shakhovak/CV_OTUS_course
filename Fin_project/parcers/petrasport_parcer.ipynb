{
 "cells": [
  {
   "cell_type": "code",
   "execution_count": 1,
   "id": "418a623e",
   "metadata": {},
   "outputs": [],
   "source": [
    "import pandas as pd\n",
    "import requests\n",
    "from bs4 import BeautifulSoup\n",
    "import fake_useragent\n",
    "import re\n",
    "import unicodedata\n",
    "import warnings\n",
    "warnings.filterwarnings(\"ignore\")\n",
    "\n",
    "ua = fake_useragent.UserAgent()"
   ]
  },
  {
   "cell_type": "code",
   "execution_count": 2,
   "id": "b8b989ac",
   "metadata": {},
   "outputs": [],
   "source": [
    "def get_url(category, tot_pages):\n",
    "    for page in range(0,tot_pages+1):\n",
    "        if page % log_frequency == 0:\n",
    "            print(f'Log: working over page {page}...')       \n",
    "\n",
    "        url_main = f\"https://petrasport.ru/{category}/p/{page}/\"\n",
    "        response = requests.get(\n",
    "            url_main,\n",
    "            headers={\"user-agent\": ua.random},\n",
    "            verify=False,\n",
    "            allow_redirects=False,\n",
    "        )\n",
    "        soup = BeautifulSoup(response.content, 'lxml')\n",
    "        data = soup.find_all(class_ = 'product-name')\n",
    "        for item in data:\n",
    "            url = item.find('a', href = True)\n",
    "            yield ('https://petrasport.ru' + url['href'])"
   ]
  },
  {
   "cell_type": "code",
   "execution_count": 3,
   "id": "09e58f49",
   "metadata": {},
   "outputs": [],
   "source": [
    "def get_item(gen_category, category, tot_pages):\n",
    "    count = 0\n",
    "    for url_item in get_url(category, tot_pages):\n",
    "        count += 1\n",
    "        response = requests.get(url_item, headers = {'user-agent': ua.random}, verify=False, allow_redirects=False)\n",
    "        soup = BeautifulSoup(response.content, 'lxml')\n",
    "\n",
    "        try:\n",
    "            title = soup.find('h1').text\n",
    "            title = title.replace('\\r', '').replace('\\t', '').replace('\\n', '').strip()\n",
    "        except:\n",
    "            title = ''\n",
    "\n",
    "        article = ''\n",
    "\n",
    "        try:\n",
    "            image = soup.find(class_ = 'product-image')\n",
    "            url = 'https://petrasport.ru' + image.find('a')['href']\n",
    "            image_ref = f\"images/{gen_category}/{count}_petrasport_{article}.jpeg\"\n",
    "            with open(f'images/{gen_category}/{count}_petrasport_{article}.jpeg', 'wb') as f:\n",
    "                r = requests.get(url)\n",
    "                f.write(r.content)     \n",
    "\n",
    "\n",
    "        except:\n",
    "            print(f'Log: no image for {article} found...')\n",
    "            url = ''\n",
    "            image_ref = ''\n",
    "\n",
    "        try:\n",
    "            char = soup.find_all(class_ = 'even')\n",
    "            char_string = ''\n",
    "            for ch in char:\n",
    "                children = ch.children\n",
    "                for child in children:\n",
    "                    if bool(child.find(class_ = 'popup-param')):\n",
    "                        pass\n",
    "                    else:\n",
    "                        char_string += child.text\n",
    "                        char_string += ' '\n",
    "            \n",
    "            char = soup.find_all(class_ = 'add')\n",
    "            for ch in char:\n",
    "                children = ch.children\n",
    "                for child in children:\n",
    "                    if bool(child.find(class_ = 'popup-param')):\n",
    "                        pass\n",
    "                    else:\n",
    "                        char_string += child.text\n",
    "                        char_string += ' '\n",
    "            chars = unicodedata.normalize('NFKD',char_string).strip()\n",
    "        except:\n",
    "            chars = ''\n",
    "\n",
    "\n",
    "        desc = ''\n",
    "\n",
    "        try:\n",
    "            price = soup.find(class_ = 'price-current').text\n",
    "            price = unicodedata.normalize('NFKD',price).replace(' ', '').replace('руб.', '')\n",
    "        except:\n",
    "            price =''\n",
    "\n",
    "        try:\n",
    "            cat = soup.find(class_ = 'site-path').text\n",
    "        except:\n",
    "            cat = []\n",
    "        try:\n",
    "            cat_1 = cat.split('/')[0].strip()\n",
    "        except:\n",
    "            cat_1 = ''\n",
    "        try:\n",
    "            cat_2 = cat.split('/')[1].strip()\n",
    "        except:\n",
    "            cat_2 = ''\n",
    "        try:\n",
    "            cat_3 = cat.split('/')[2].strip()\n",
    "        except:\n",
    "            cat_3 = ''\n",
    "\n",
    "        yield  title, article, price, cat_1, cat_2, cat_3, url, desc, chars, image_ref"
   ]
  },
  {
   "cell_type": "code",
   "execution_count": 4,
   "id": "2e632506",
   "metadata": {
    "scrolled": false
   },
   "outputs": [],
   "source": [
    "df_columns = ['title', 'article','price', 'cat_1', 'cat_2', 'cat_3','url', \n",
    "              'description', 'caracteristics', 'img_ref']\n",
    "\n",
    "df = pd.DataFrame(columns = df_columns)\n",
    "save_frequency = 100\n",
    "log_frequency = 10"
   ]
  },
  {
   "cell_type": "code",
   "execution_count": 5,
   "id": "80182589",
   "metadata": {},
   "outputs": [],
   "source": [
    "import time\n",
    "\n",
    "def to_csv(gen_category, category, tot_pages):\n",
    "    counter = 0  \n",
    "\n",
    "    for item in get_item(gen_category, category, tot_pages):\n",
    "            data = []\n",
    "            for i in range(len(df_columns)):\n",
    "                data.append(item[i])\n",
    "            df.loc[len(df.index)] = data\n",
    "            time.sleep(0.1)\n",
    "\n",
    "            counter += 1\n",
    "            if counter % save_frequency == 0:\n",
    "                df.to_csv(f'{gen_category}_petrasport.csv')\n",
    "                print(f'{counter} items saved in csv..')\n",
    "    df.to_csv(f'{gen_category}_petrasport.csv')\n",
    "\n",
    "    print(f'\\nTotal items saved: {counter}')  "
   ]
  },
  {
   "cell_type": "code",
   "execution_count": 6,
   "id": "902657d3",
   "metadata": {},
   "outputs": [
    {
     "name": "stdout",
     "output_type": "stream",
     "text": [
      "Log: working over page 0...\n",
      "100 items saved in csv..\n",
      "Log: no image for  found...\n",
      "Log: no image for  found...\n",
      "\n",
      "Total items saved: 164\n"
     ]
    }
   ],
   "source": [
    "to_csv(\"trenazhery_na_svobodnykh_vesakh\", \"trenazhery-na-svobodnyh-vesah\", 8)"
   ]
  }
 ],
 "metadata": {
  "kernelspec": {
   "display_name": "Python 3 (ipykernel)",
   "language": "python",
   "name": "python3"
  },
  "language_info": {
   "codemirror_mode": {
    "name": "ipython",
    "version": 3
   },
   "file_extension": ".py",
   "mimetype": "text/x-python",
   "name": "python",
   "nbconvert_exporter": "python",
   "pygments_lexer": "ipython3",
   "version": "3.11.8"
  }
 },
 "nbformat": 4,
 "nbformat_minor": 5
}
